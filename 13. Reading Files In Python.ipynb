{
 "cells": [
  {
   "cell_type": "markdown",
   "metadata": {},
   "source": [
    "# **13. Reading Files in Python**\n",
    "\n",
    "To read a text file in Python, you follow these steps:\n",
    "\n",
    "- First, open a text file for reading by using the open() function\n",
    "\n",
    "- Second, read text from the text file using the file read(), readline(), or readlines() method of the file object.\n",
    "\n",
    "- Third, close the file using the file close() method. This frees up resources and ensures consistency across different python versions."
   ]
  },
  {
   "cell_type": "markdown",
   "metadata": {},
   "source": [
    "**Reading file**"
   ]
  },
  {
   "cell_type": "code",
   "execution_count": 27,
   "metadata": {},
   "outputs": [
    {
     "data": {
      "text/plain": [
       "'I dedicate this book to Nancy Lier Cosgrove Mullis.\\nJean-Paul Sartre somewhere observed that we each of us make our own hell out of the people around us. Had Jean-Paul known Nancy, he may have noted\\nthat at least one man, someday, might get very lucky, and make his own heaven out of one of the people around him. She will be his morning and his evening star, shining with the brightest and the softest light in his heaven. \\nShe will be the end of his wanderings, and their love will arouse the daffodils in the spring to follow the crocuses and precede the irises. Their faith in one another will be deeper than time and\\ntheir eternal spirit will be seamless once again.Or maybe he would have just said, â€œIf Iâ€™d had a woman\\nlike that, my books would not have been about despair.\"\\nThis book is not about despair. It is about a little bit of a lot of things, and, if not a single one of them is wet with sadness, it is not due to my lack of de\\npth; it is due to a year of Nancy, and the prospect of never again being without her.\\n'"
      ]
     },
     "execution_count": 27,
     "metadata": {},
     "output_type": "execute_result"
    }
   ],
   "source": [
    "# Reading the txt file\n",
    "file_name = \"pcr_file.txt\"\n",
    "file = open(file_name,\"r\")\n",
    "content = file.read()\n",
    "content"
   ]
  },
  {
   "cell_type": "code",
   "execution_count": 16,
   "metadata": {},
   "outputs": [
    {
     "name": "stdout",
     "output_type": "stream",
     "text": [
      "pcr_file.txt\n",
      "r\n",
      "I dedicate this book to Nancy Lier Cosgrove Mullis.\n",
      "Jean-Paul Sartre somewhere observed that we each of us make our own hell out of the people around us. Had Jean-Paul known Nancy, he may have noted\n",
      "that at least one man, someday, might get very lucky, and make his own heaven out of one of the people around him. She will be his morning and his evening star, shining with the brightest and the softest light in his heaven. \n",
      "She will be the end of his wanderings, and their love will arouse the daffodils in the spring to follow the crocuses and precede the irises. Their faith in one another will be deeper than time and\n",
      "their eternal spirit will be seamless once again.Or maybe he would have just said, â€œIf Iâ€™d had a woman\n",
      "like that, my books would not have been about despair.\"\n",
      "This book is not about despair. It is about a little bit of a lot of things, and, if not a single one of them is wet with sadness, it is not due to my lack of de\n",
      "pth; it is due to a year of Nancy, and the prospect of never again being without her.\n",
      "\n",
      "<class 'str'>\n"
     ]
    }
   ],
   "source": [
    "# Printing the path of file\n",
    "print(file.name)\n",
    "\n",
    "# Printing the mode of file\n",
    "print(file.mode)\n",
    "\n",
    "# Printing the file with '\\n' as a new file\n",
    "print(content)\n",
    "\n",
    "# Printing the type of file\n",
    "print(type(content))"
   ]
  },
  {
   "cell_type": "code",
   "execution_count": 17,
   "metadata": {},
   "outputs": [],
   "source": [
    "# Close the file\n",
    "file.close()"
   ]
  },
  {
   "cell_type": "code",
   "execution_count": 18,
   "metadata": {},
   "outputs": [
    {
     "data": {
      "text/plain": [
       "True"
      ]
     },
     "execution_count": 18,
     "metadata": {},
     "output_type": "execute_result"
    }
   ],
   "source": [
    "# Verification of the closed file\n",
    "file.closed"
   ]
  },
  {
   "cell_type": "code",
   "execution_count": 19,
   "metadata": {},
   "outputs": [
    {
     "name": "stdout",
     "output_type": "stream",
     "text": [
      "I dedicate this book to Nancy Lier Cosgrove Mullis.\n",
      "Jean-Paul Sartre somewhere observed that we each of us make our own hell out of the people around us. Had Jean-Paul known Nancy, he may have noted\n",
      "that at least one man, someday, might get very lucky, and make his own heaven out of one of the people around him. She will be his morning and his evening star, shining with the brightest and the softest light in his heaven. \n",
      "She will be the end of his wanderings, and their love will arouse the daffodils in the spring to follow the crocuses and precede the irises. Their faith in one another will be deeper than time and\n",
      "their eternal spirit will be seamless once again.Or maybe he would have just said, â€œIf Iâ€™d had a woman\n",
      "like that, my books would not have been about despair.\"\n",
      "This book is not about despair. It is about a little bit of a lot of things, and, if not a single one of them is wet with sadness, it is not due to my lack of de\n",
      "pth; it is due to a year of Nancy, and the prospect of never again being without her.\n",
      "\n"
     ]
    }
   ],
   "source": [
    "fname = 'pcr_file.txt'\n",
    "with open(fname,'r') as f:\n",
    "    content = f.read()\n",
    "    print(content)"
   ]
  },
  {
   "cell_type": "code",
   "execution_count": 20,
   "metadata": {},
   "outputs": [
    {
     "data": {
      "text/plain": [
       "True"
      ]
     },
     "execution_count": 20,
     "metadata": {},
     "output_type": "execute_result"
    }
   ],
   "source": [
    "# Verification of the closed file\n",
    "f.closed"
   ]
  },
  {
   "cell_type": "code",
   "execution_count": 21,
   "metadata": {},
   "outputs": [
    {
     "name": "stdout",
     "output_type": "stream",
     "text": [
      "I dedicate this book to Nancy Lier Cosgrove Mullis.\n",
      "Jean-Paul Sartre somewhere observed that we each of us make our own hell out of the people around us. Had Jean-Paul known Nancy, he may have noted\n",
      "that at least one man, someday, might get very lucky, and make his own heaven out of one of the people around him. She will be his morning and his evening star, shining with the brightest and the softest light in his heaven. \n",
      "She will be the end of his wanderings, and their love will arouse the daffodils in the spring to follow the crocuses and precede the irises. Their faith in one another will be deeper than time and\n",
      "their eternal spirit will be seamless once again.Or maybe he would have just said, â€œIf Iâ€™d had a woman\n",
      "like that, my books would not have been about despair.\"\n",
      "This book is not about despair. It is about a little bit of a lot of things, and, if not a single one of them is wet with sadness, it is not due to my lack of de\n",
      "pth; it is due to a year of Nancy, and the prospect of never again being without her.\n",
      "\n"
     ]
    }
   ],
   "source": [
    "# See the content of the file\n",
    "print(content)"
   ]
  },
  {
   "cell_type": "code",
   "execution_count": 22,
   "metadata": {},
   "outputs": [
    {
     "name": "stdout",
     "output_type": "stream",
     "text": [
      "I dedicate this book\n",
      " to Nancy Lier Cosgr\n",
      "ove Mullis.\n",
      "Jean-Paul Sartre somewhere observed th\n",
      "at we each of us make our own hell out of the people around us. Had Jean-Paul known Nancy, he may ha\n"
     ]
    }
   ],
   "source": [
    "# Reading certain amount of characters in the file\n",
    "with open(fname, 'r') as f:\n",
    "    print(f.read(20))\n",
    "    print(f.read(20))\n",
    "    print(f.read(50))\n",
    "    print(f.read(100))"
   ]
  },
  {
   "cell_type": "code",
   "execution_count": 23,
   "metadata": {},
   "outputs": [
    {
     "name": "stdout",
     "output_type": "stream",
     "text": [
      "The first line is: I dedicate this book to Nancy Lier Cosgrove Mullis.\n",
      "\n"
     ]
    }
   ],
   "source": [
    "# Reading first line in the text file\n",
    "\n",
    "with open(fname, 'r') as f:\n",
    "    print('The first line is:',f.readline())"
   ]
  },
  {
   "cell_type": "code",
   "execution_count": 24,
   "metadata": {},
   "outputs": [
    {
     "name": "stdout",
     "output_type": "stream",
     "text": [
      "I dedicate this book\n",
      " to Nancy Lier Cosgr\n"
     ]
    }
   ],
   "source": [
    "# Difference between read() and readline()\n",
    "with open(fname, 'r') as f:\n",
    "    print(f.readline(20))\n",
    "    print(f.read(20))     # THis code returns the next 20 characters in the line."
   ]
  },
  {
   "cell_type": "markdown",
   "metadata": {},
   "source": [
    "**Loop usage in the text file**"
   ]
  },
  {
   "cell_type": "code",
   "execution_count": 28,
   "metadata": {},
   "outputs": [
    {
     "name": "stdout",
     "output_type": "stream",
     "text": [
      "Line number 1 : I dedicate this book to Nancy Lier Cosgrove Mullis.\n",
      "\n",
      "Line number 2 : Jean-Paul Sartre somewhere observed that we each of us make our own hell out of the people around us. Had Jean-Paul known Nancy, he may have noted\n",
      "\n",
      "Line number 3 : that at least one man, someday, might get very lucky, and make his own heaven out of one of the people around him. She will be his morning and his evening star, shining with the brightest and the softest light in his heaven. \n",
      "\n",
      "Line number 4 : She will be the end of his wanderings, and their love will arouse the daffodils in the spring to follow the crocuses and precede the irises. Their faith in one another will be deeper than time and\n",
      "\n",
      "Line number 5 : their eternal spirit will be seamless once again.Or maybe he would have just said, â€œIf Iâ€™d had a woman\n",
      "\n",
      "Line number 6 : like that, my books would not have been about despair.\"\n",
      "\n",
      "Line number 7 : This book is not about despair. It is about a little bit of a lot of things, and, if not a single one of them is wet with sadness, it is not due to my lack of de\n",
      "\n",
      "Line number 8 : pth; it is due to a year of Nancy, and the prospect of never again being without her.\n",
      "\n"
     ]
    }
   ],
   "source": [
    "with open(fname,'r') as f:\n",
    "    line_number = 1\n",
    "    for line in f:\n",
    "        print('Line number', str(line_number),':',line)\n",
    "        line_number+=1"
   ]
  },
  {
   "cell_type": "markdown",
   "metadata": {},
   "source": [
    "# **Methods**\n",
    "\n",
    "**read(n) function**\n",
    "\n",
    "- Reads almost n bytes from the file if n is specified, else reads the entire file.\n",
    "\n",
    "- Returns the retrieved bytes in the form of a string."
   ]
  },
  {
   "cell_type": "code",
   "execution_count": 31,
   "metadata": {},
   "outputs": [
    {
     "name": "stdout",
     "output_type": "stream",
     "text": [
      "I dedicate this book to Nancy Lier Cosgrove Mullis.\n",
      "Jean-Paul Sartre somewhere observed that we each of us make our own hell out of the people around us. Had Jean-Paul known Nancy, he may have noted\n",
      "that at least one man, someday, might get very lucky, and make his own heaven out of one of the people around him. She will be his morning and his evening star, shining with the brightest and the softest light in his heaven. \n",
      "She will be the end of his wanderings, and their love will arouse the daffodils in the spring to follow the crocuses and precede the irises. Their faith in one another will be deeper than time and\n",
      "their eternal spirit will be seamless once again.Or maybe he would have just said, â€œIf Iâ€™d had a woman\n",
      "like that, my books would not have been about despair.\"\n",
      "This book is not about despair. It is about a little bit of a lot of things, and, if not a single one of them is wet with sadness, it is not due to my lack of de\n",
      "pth; it is due to a year of Nancy, and the prospect of never again being without her.\n",
      "\n"
     ]
    }
   ],
   "source": [
    "with open(fname,'r') as f:\n",
    "    print(f.read())"
   ]
  },
  {
   "cell_type": "code",
   "execution_count": 32,
   "metadata": {},
   "outputs": [
    {
     "name": "stdout",
     "output_type": "stream",
     "text": [
      "I dedicate this book to Nancy \n"
     ]
    }
   ],
   "source": [
    "with open(fname,\"r\") as f:\n",
    "    print(f.read(30))"
   ]
  },
  {
   "cell_type": "markdown",
   "metadata": {},
   "source": [
    "**readline() function**\n",
    "\n",
    "Reads one line at a time from the file in the form of string"
   ]
  },
  {
   "cell_type": "code",
   "execution_count": 33,
   "metadata": {},
   "outputs": [
    {
     "name": "stdout",
     "output_type": "stream",
     "text": [
      "I dedicate this book to Nancy Lier Cosgrove Mullis.\n",
      "\n",
      "that at least one man, someday, might get very lucky, and make his own heaven out of one of the people around him. She will be his morning and his evening star, shining with the brightest and the softest light in his heaven. \n",
      "\n",
      "that at least one man, someday, might get very lucky, and make his own heaven out of one of the people around him. She will be his morning and his evening star, shining with the brightest and the softest light in his heaven. \n",
      "\n",
      "She will be the end of his wanderings, and their love will arouse the daffodils in the spring to follow the crocuses and precede the irises. Their faith in one another will be deeper than time and\n",
      "\n"
     ]
    }
   ],
   "source": [
    "with open(fname, 'r') as f:\n",
    "    file_list = f.readlines()\n",
    "    # Printing the first line\n",
    "    print(file_list[0])\n",
    "    # Printing the second line\n",
    "    print(file_list[2])\n",
    "    # Printing the third line\n",
    "    print(file_list[2])\n",
    "    # Printing the fourth line\n",
    "    print(file_list[3])"
   ]
  },
  {
   "cell_type": "markdown",
   "metadata": {},
   "source": [
    "**readlines() function**\n",
    "\n",
    "Reads all the lines from the file and returns a list of lines."
   ]
  },
  {
   "cell_type": "code",
   "execution_count": 34,
   "metadata": {},
   "outputs": [
    {
     "name": "stdout",
     "output_type": "stream",
     "text": [
      "['I dedicate this book to Nancy Lier Cosgrove Mullis.\\n', 'Jean-Paul Sartre somewhere observed that we each of us make our own hell out of the people around us. Had Jean-Paul known Nancy, he may have noted\\n', 'that at least one man, someday, might get very lucky, and make his own heaven out of one of the people around him. She will be his morning and his evening star, shining with the brightest and the softest light in his heaven. \\n', 'She will be the end of his wanderings, and their love will arouse the daffodils in the spring to follow the crocuses and precede the irises. Their faith in one another will be deeper than time and\\n', 'their eternal spirit will be seamless once again.Or maybe he would have just said, â€œIf Iâ€™d had a woman\\n', 'like that, my books would not have been about despair.\"\\n', 'This book is not about despair. It is about a little bit of a lot of things, and, if not a single one of them is wet with sadness, it is not due to my lack of de\\n', 'pth; it is due to a year of Nancy, and the prospect of never again being without her.\\n']\n"
     ]
    }
   ],
   "source": [
    "fname = r'D:/Python Coding Practices/Python Tutorials/pcr_file.txt'\n",
    "with open(fname, 'r') as f:\n",
    "    content = f.readlines()\n",
    "    print(content)"
   ]
  },
  {
   "cell_type": "markdown",
   "metadata": {},
   "source": [
    "**strip() function**\n",
    "\n",
    "Removes the leading and trailing spaces from the given string."
   ]
  },
  {
   "cell_type": "code",
   "execution_count": 35,
   "metadata": {},
   "outputs": [
    {
     "name": "stdout",
     "output_type": "stream",
     "text": [
      "Total lenght of the line is 1033.\n",
      "The length of the line after removing leading and trailing spaces is 1024.\n"
     ]
    }
   ],
   "source": [
    "with open(fname,'r') as f:\n",
    "    len_file = 0\n",
    "    total_len_file = 0\n",
    "    for line in f:\n",
    "        # Total length of line in the text file\n",
    "        total_len_file = total_len_file+len(line)\n",
    "\n",
    "        # Length of the line after removing leading and trailing spaces\n",
    "        len_file = len_file+len(line.strip())\n",
    "    print(f'Total lenght of the line is {total_len_file}.')\n",
    "    print(f'The length of the line after removing leading and trailing spaces is {len_file}.')    "
   ]
  },
  {
   "cell_type": "markdown",
   "metadata": {},
   "source": [
    "**Size of the text file**\n"
   ]
  },
  {
   "cell_type": "code",
   "execution_count": 36,
   "metadata": {},
   "outputs": [
    {
     "name": "stdout",
     "output_type": "stream",
     "text": [
      "The size of the text file is 1033.\n"
     ]
    }
   ],
   "source": [
    "with open(fname,'r') as f:\n",
    "    str = \"\"\n",
    "    for line in f:\n",
    "        str+=line\n",
    "    print(f'The size of the text file is {len(str)}.')    "
   ]
  },
  {
   "cell_type": "markdown",
   "metadata": {},
   "source": [
    "**Number of lines in the text**"
   ]
  },
  {
   "cell_type": "code",
   "execution_count": 37,
   "metadata": {},
   "outputs": [
    {
     "name": "stdout",
     "output_type": "stream",
     "text": [
      "The number of lines in the text file is 8.\n"
     ]
    }
   ],
   "source": [
    "with open(fname,'r') as f:\n",
    "    count=0\n",
    "    for line in f:\n",
    "        count=count+1\n",
    "    print(f'The number of lines in the text file is {count}.')    "
   ]
  },
  {
   "cell_type": "code",
   "execution_count": null,
   "metadata": {},
   "outputs": [],
   "source": []
  }
 ],
 "metadata": {
  "kernelspec": {
   "display_name": "Python 3",
   "language": "python",
   "name": "python3"
  },
  "language_info": {
   "codemirror_mode": {
    "name": "ipython",
    "version": 3
   },
   "file_extension": ".py",
   "mimetype": "text/x-python",
   "name": "python",
   "nbconvert_exporter": "python",
   "pygments_lexer": "ipython3",
   "version": "3.10.11"
  }
 },
 "nbformat": 4,
 "nbformat_minor": 2
}

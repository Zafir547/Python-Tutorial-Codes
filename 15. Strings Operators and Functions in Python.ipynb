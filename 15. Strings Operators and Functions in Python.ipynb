{
 "cells": [
  {
   "cell_type": "markdown",
   "metadata": {},
   "source": [
    "# **15. Strings Operators and Functions in Python**"
   ]
  },
  {
   "cell_type": "markdown",
   "metadata": {},
   "source": [
    "**Special String Operators in Python**"
   ]
  },
  {
   "cell_type": "markdown",
   "metadata": {},
   "source": [
    "**Strings are unchangeable**"
   ]
  },
  {
   "cell_type": "code",
   "execution_count": 1,
   "metadata": {},
   "outputs": [
    {
     "name": "stdout",
     "output_type": "stream",
     "text": [
      "Hello\n",
      "Python!\n"
     ]
    }
   ],
   "source": [
    "string_hello = 'Hello'\n",
    "string_python = 'Python!'\n",
    "print(string_hello)\n",
    "print(string_python)"
   ]
  },
  {
   "cell_type": "markdown",
   "metadata": {},
   "source": [
    "**Deleting the items in a string is not supported since strings are immutable**\n",
    "\n",
    "It returns a TypeError. However, the whole string can be deleted. When it is, it returns a NameError."
   ]
  },
  {
   "cell_type": "code",
   "execution_count": 2,
   "metadata": {},
   "outputs": [
    {
     "name": "stdout",
     "output_type": "stream",
     "text": [
      "Python is a programming language.\n"
     ]
    },
    {
     "ename": "TypeError",
     "evalue": "'str' object doesn't support item deletion",
     "output_type": "error",
     "traceback": [
      "\u001b[1;31m---------------------------------------------------------------------------\u001b[0m",
      "\u001b[1;31mTypeError\u001b[0m                                 Traceback (most recent call last)",
      "Cell \u001b[1;32mIn[2], line 3\u001b[0m\n\u001b[0;32m      1\u001b[0m text \u001b[38;5;241m=\u001b[39m \u001b[38;5;124m'\u001b[39m\u001b[38;5;124mPython is a programming language.\u001b[39m\u001b[38;5;124m'\u001b[39m\n\u001b[0;32m      2\u001b[0m \u001b[38;5;28mprint\u001b[39m(text)\n\u001b[1;32m----> 3\u001b[0m \u001b[38;5;28;01mdel\u001b[39;00m text[\u001b[38;5;241m1\u001b[39m]\n\u001b[0;32m      4\u001b[0m \u001b[38;5;28mprint\u001b[39m(text)\n",
      "\u001b[1;31mTypeError\u001b[0m: 'str' object doesn't support item deletion"
     ]
    }
   ],
   "source": [
    "text = 'Python is a programming language.'\n",
    "print(text)\n",
    "del text[1]\n",
    "print(text)"
   ]
  },
  {
   "cell_type": "code",
   "execution_count": 3,
   "metadata": {},
   "outputs": [
    {
     "name": "stdout",
     "output_type": "stream",
     "text": [
      "Python is a programming language.\n"
     ]
    },
    {
     "ename": "NameError",
     "evalue": "name 'text' is not defined",
     "output_type": "error",
     "traceback": [
      "\u001b[1;31m---------------------------------------------------------------------------\u001b[0m",
      "\u001b[1;31mNameError\u001b[0m                                 Traceback (most recent call last)",
      "Cell \u001b[1;32mIn[3], line 4\u001b[0m\n\u001b[0;32m      2\u001b[0m \u001b[38;5;28mprint\u001b[39m(text)\n\u001b[0;32m      3\u001b[0m \u001b[38;5;28;01mdel\u001b[39;00m text\n\u001b[1;32m----> 4\u001b[0m \u001b[38;5;28mprint\u001b[39m(\u001b[43mtext\u001b[49m)\n",
      "\u001b[1;31mNameError\u001b[0m: name 'text' is not defined"
     ]
    }
   ],
   "source": [
    "text = 'Python is a programming language.'\n",
    "print(text)\n",
    "del text\n",
    "print(text)"
   ]
  },
  {
   "cell_type": "markdown",
   "metadata": {},
   "source": [
    "**Concetanation of strings**\n",
    "\n",
    "It combines two or more strings using the sign '+' to form a new string."
   ]
  },
  {
   "cell_type": "code",
   "execution_count": 7,
   "metadata": {},
   "outputs": [
    {
     "name": "stdout",
     "output_type": "stream",
     "text": [
      "Hello Python!\n"
     ]
    }
   ],
   "source": [
    "text1 = 'Hello '\n",
    "text2 = 'Python!'\n",
    "new_text = text1 + text2\n",
    "print(new_text)"
   ]
  },
  {
   "cell_type": "markdown",
   "metadata": {},
   "source": [
    "**Appending (+=) adds a new string the the end of the current string**"
   ]
  },
  {
   "cell_type": "code",
   "execution_count": 9,
   "metadata": {},
   "outputs": [
    {
     "name": "stdout",
     "output_type": "stream",
     "text": [
      "Hello Python!\n"
     ]
    }
   ],
   "source": [
    "text1 = 'Hello '\n",
    "text2 = 'Python!'\n",
    "text1+=text2\n",
    "print(text1)"
   ]
  },
  {
   "cell_type": "markdown",
   "metadata": {},
   "source": [
    "**To repeat a string, the multiplication (*) operator is used**"
   ]
  },
  {
   "cell_type": "code",
   "execution_count": 11,
   "metadata": {},
   "outputs": [
    {
     "name": "stdout",
     "output_type": "stream",
     "text": [
      "Hello, Python! Hello, Python! Hello, Python! Hello, Python! \n"
     ]
    }
   ],
   "source": [
    "text = 'Hello, Python! '\n",
    "print(text*4)"
   ]
  },
  {
   "cell_type": "markdown",
   "metadata": {},
   "source": [
    "**Accessing the item by indexing**"
   ]
  },
  {
   "cell_type": "code",
   "execution_count": 12,
   "metadata": {},
   "outputs": [
    {
     "name": "stdout",
     "output_type": "stream",
     "text": [
      "Hello\n",
      "o\n",
      "Python!\n",
      "Python\n"
     ]
    }
   ],
   "source": [
    "text = 'Hello, Python!'\n",
    "print(text[0:5])    # Positive indexing\n",
    "print(text[4])\n",
    "print(text[-7:])    # Negative indexing\n",
    "print(text[-7:-1])"
   ]
  },
  {
   "cell_type": "markdown",
   "metadata": {},
   "source": [
    "**Striding in slicing**\n",
    "\n",
    "The third parameter specifies the stride, which refers to how many characters to move forward after the first\n",
    "character is retrieved from the string."
   ]
  },
  {
   "cell_type": "code",
   "execution_count": 13,
   "metadata": {},
   "outputs": [
    {
     "name": "stdout",
     "output_type": "stream",
     "text": [
      "14\n",
      "Hello, Python!\n",
      "Hlo yhn\n",
      "Hl tn\n"
     ]
    }
   ],
   "source": [
    "text = 'Hello, Python!'\n",
    "print(len(text))\n",
    "print(text[:14])    # Default stride value is 1.\n",
    "print(text[0:14:2])\n",
    "print(text[::3])\n"
   ]
  },
  {
   "cell_type": "markdown",
   "metadata": {},
   "source": [
    "**Reverse string**\n",
    "\n",
    "The stride value is equal to -1 if a reverse string is wanted to obtain"
   ]
  },
  {
   "cell_type": "code",
   "execution_count": 14,
   "metadata": {},
   "outputs": [
    {
     "name": "stdout",
     "output_type": "stream",
     "text": [
      "!nohtyP ,olleH\n"
     ]
    }
   ],
   "source": [
    "text = 'Hello, Python!'\n",
    "print(text[::-1])"
   ]
  },
  {
   "cell_type": "markdown",
   "metadata": {},
   "source": [
    "*in and not in*\n",
    "\n",
    "- **in** returns True when the character or word is in the given string, otherwise False.\n",
    "\n",
    "- **not in** returns False when the character or word is in the given string, otherwise True."
   ]
  },
  {
   "cell_type": "code",
   "execution_count": 15,
   "metadata": {},
   "outputs": [
    {
     "name": "stdout",
     "output_type": "stream",
     "text": [
      "True\n",
      "False\n",
      "True\n",
      "False\n"
     ]
    }
   ],
   "source": [
    "text = 'Hello, Python!'\n",
    "print('H' in text)\n",
    "print('H' not in text)\n",
    "print('c' not in text)\n",
    "print('c' in text)"
   ]
  },
  {
   "cell_type": "markdown",
   "metadata": {},
   "source": [
    "**String Functions in Python**\n",
    "\n",
    "You can find some useful functions from the below table."
   ]
  },
  {
   "cell_type": "markdown",
   "metadata": {},
   "source": [
    "**capitalize() function**\n",
    "\n",
    "It converts the first character of the string into uppercase.\n"
   ]
  },
  {
   "cell_type": "code",
   "execution_count": 16,
   "metadata": {},
   "outputs": [
    {
     "name": "stdout",
     "output_type": "stream",
     "text": [
      "Before capitalizing:hello,python!\n",
      "After capitalizing:Hello,python!\n"
     ]
    }
   ],
   "source": [
    "text = 'hello,python!'\n",
    "print(f'Before capitalizing:{text}')\n",
    "text = text.capitalize()\n",
    "print(f'After capitalizing:{text}')"
   ]
  },
  {
   "cell_type": "markdown",
   "metadata": {},
   "source": [
    "**casefold() function**\n",
    "\n",
    "It converts the characters in the certain string into lowercase."
   ]
  },
  {
   "cell_type": "code",
   "execution_count": 17,
   "metadata": {},
   "outputs": [
    {
     "name": "stdout",
     "output_type": "stream",
     "text": [
      "Before capitalizing:Hello, Python!\n",
      "After capitalizing:hello, python!\n"
     ]
    }
   ],
   "source": [
    "text = 'Hello, Python!'\n",
    "print(f'Before capitalizing:{text}')\n",
    "text = text.casefold()\n",
    "print(f'After capitalizing:{text}')"
   ]
  },
  {
   "cell_type": "markdown",
   "metadata": {},
   "source": [
    "**center() function**\n",
    "\n",
    "It will center align the string, using a specified character (space is default) as the fill character."
   ]
  },
  {
   "cell_type": "code",
   "execution_count": 18,
   "metadata": {},
   "outputs": [
    {
     "name": "stdout",
     "output_type": "stream",
     "text": [
      "Before center() function:Hello, Python!\n",
      "After center() function:                  Hello, Python!                  \n",
      "After center() function:-------------------Hi, Python!--------------------\n"
     ]
    }
   ],
   "source": [
    "text='Hello, Python!'\n",
    "print(f'Before center() function:{text}')\n",
    "text=text.center(50)\n",
    "print(f'After center() function:{text}')\n",
    "new_text='Hi, Python!'\n",
    "new_text=new_text.center(50,'-')\n",
    "print(f'After center() function:{new_text}')"
   ]
  },
  {
   "cell_type": "markdown",
   "metadata": {},
   "source": [
    "**count() function**\n",
    "\n",
    "It returns the number of a certain characters in a string."
   ]
  },
  {
   "cell_type": "code",
   "execution_count": 19,
   "metadata": {},
   "outputs": [
    {
     "name": "stdout",
     "output_type": "stream",
     "text": [
      "The number of the character 'o' in the string is 2.\n"
     ]
    }
   ],
   "source": [
    "text='Hello, Python!'\n",
    "print(f\"The number of the character 'o' in the string is {text.count('o')}.\")"
   ]
  },
  {
   "cell_type": "markdown",
   "metadata": {},
   "source": [
    "**endswith() function**\n",
    "\n",
    "It returns True if the strings ends with a certain value."
   ]
  },
  {
   "cell_type": "code",
   "execution_count": 20,
   "metadata": {},
   "outputs": [
    {
     "name": "stdout",
     "output_type": "stream",
     "text": [
      "True\n",
      "False\n"
     ]
    }
   ],
   "source": [
    "text='Hello, Python!'\n",
    "text=text.endswith('Python!')\n",
    "print(text)\n",
    "new_text='Hi, Python!'\n",
    "new_text=new_text.endswith('World!')\n",
    "print(new_text)"
   ]
  },
  {
   "cell_type": "markdown",
   "metadata": {},
   "source": [
    "**find() function**\n",
    "\n",
    "It investigates the string for a certain value and returns the position of where it was found."
   ]
  },
  {
   "cell_type": "code",
   "execution_count": 21,
   "metadata": {},
   "outputs": [
    {
     "name": "stdout",
     "output_type": "stream",
     "text": [
      "7\n",
      "-1\n"
     ]
    }
   ],
   "source": [
    "text='Hello, Python!'\n",
    "print(text.find('Python'))\n",
    "print(text.find('World',0,14))  # It returns -1 if the value is not found."
   ]
  },
  {
   "cell_type": "markdown",
   "metadata": {},
   "source": [
    "**format() function**\n",
    "\n",
    "- It formats the specified value(s) and insert them inside the string's placeholder.\n",
    "\n",
    "- The placeholder is defined using curly brackets: {}."
   ]
  },
  {
   "cell_type": "code",
   "execution_count": 24,
   "metadata": {},
   "outputs": [
    {
     "name": "stdout",
     "output_type": "stream",
     "text": [
      "Hello World! and Hi Python!\n",
      "Hello World! and Hi Python!\n",
      "Hello World! and Hi Python!\n",
      "Hello Python! and Hi World!\n"
     ]
    }
   ],
   "source": [
    "text='Hello {} and Hi {}'.format('World!','Python!')\n",
    "print(text)\n",
    "text='Hello {world} and Hi {python}'.format(world='World!',python='Python!')\n",
    "print(text)\n",
    "text='Hello {0} and Hi {1}'.format('World!','Python!')\n",
    "print(text)\n",
    "text='Hello {1} and Hi {0}'.format('World!','Python!')\n",
    "print(text)"
   ]
  },
  {
   "cell_type": "markdown",
   "metadata": {},
   "source": [
    "**index() function**\n",
    "\n",
    "It examines the string for a certain value and returns the position of where it was found."
   ]
  },
  {
   "cell_type": "code",
   "execution_count": 25,
   "metadata": {},
   "outputs": [
    {
     "name": "stdout",
     "output_type": "stream",
     "text": [
      "7\n",
      "0\n"
     ]
    },
    {
     "ename": "ValueError",
     "evalue": "substring not found",
     "output_type": "error",
     "traceback": [
      "\u001b[1;31m---------------------------------------------------------------------------\u001b[0m",
      "\u001b[1;31mValueError\u001b[0m                                Traceback (most recent call last)",
      "Cell \u001b[1;32mIn[25], line 4\u001b[0m\n\u001b[0;32m      2\u001b[0m \u001b[38;5;28mprint\u001b[39m(text\u001b[38;5;241m.\u001b[39mindex(\u001b[38;5;124m'\u001b[39m\u001b[38;5;124mPython!\u001b[39m\u001b[38;5;124m'\u001b[39m))\n\u001b[0;32m      3\u001b[0m \u001b[38;5;28mprint\u001b[39m(text\u001b[38;5;241m.\u001b[39mindex(\u001b[38;5;124m'\u001b[39m\u001b[38;5;124mHello\u001b[39m\u001b[38;5;124m'\u001b[39m))\n\u001b[1;32m----> 4\u001b[0m \u001b[38;5;28mprint\u001b[39m(\u001b[43mtext\u001b[49m\u001b[38;5;241;43m.\u001b[39;49m\u001b[43mindex\u001b[49m\u001b[43m(\u001b[49m\u001b[38;5;124;43m'\u001b[39;49m\u001b[38;5;124;43mHi\u001b[39;49m\u001b[38;5;124;43m'\u001b[39;49m\u001b[43m)\u001b[49m)   \u001b[38;5;66;03m# If the value is not found, it returns a 'ValueError'\u001b[39;00m\n",
      "\u001b[1;31mValueError\u001b[0m: substring not found"
     ]
    }
   ],
   "source": [
    "text='Hello, Python!'\n",
    "print(text.index('Python!'))\n",
    "print(text.index('Hello'))\n",
    "print(text.index('Hi'))   # If the value is not found, it returns a 'ValueError'"
   ]
  },
  {
   "cell_type": "markdown",
   "metadata": {},
   "source": [
    "**isalnum() function**\n",
    "\n",
    "It returns True if all characters in the string are alphanumeric."
   ]
  },
  {
   "cell_type": "code",
   "execution_count": 26,
   "metadata": {},
   "outputs": [
    {
     "name": "stdout",
     "output_type": "stream",
     "text": [
      "False\n",
      "True\n"
     ]
    }
   ],
   "source": [
    "text='Hello,Python!'\n",
    "print(text.isalnum())\n",
    "msg='Hello1358'\n",
    "print(msg.isalnum())"
   ]
  },
  {
   "cell_type": "markdown",
   "metadata": {},
   "source": [
    "**isalpha() function**\n",
    "\n",
    "It returns True if all characters in the string are alphabets.\n",
    "White spaces are not considered as alphabets and thus it returns False."
   ]
  },
  {
   "cell_type": "code",
   "execution_count": 31,
   "metadata": {},
   "outputs": [
    {
     "name": "stdout",
     "output_type": "stream",
     "text": [
      "True\n",
      "False\n",
      "False\n"
     ]
    }
   ],
   "source": [
    "text='Hello'\n",
    "print(text.isalpha())\n",
    "text = 'Hello1358'     # The text contains numbers.\n",
    "print(text.isalpha())  \n",
    "text ='Hello Python!' # The text contains a white space.\n",
    "print(text.isalpha())"
   ]
  },
  {
   "cell_type": "markdown",
   "metadata": {},
   "source": [
    "**isdecimal() function**\n",
    "\n",
    "It returns True if all the characters in the given string are decimal numbers ( 0-9)."
   ]
  },
  {
   "cell_type": "code",
   "execution_count": 32,
   "metadata": {},
   "outputs": [
    {
     "name": "stdout",
     "output_type": "stream",
     "text": [
      "False\n",
      "True\n"
     ]
    }
   ],
   "source": [
    "text='Hello'\n",
    "print(text.isdecimal())\n",
    "numbered_text='011235813'\n",
    "print(numbered_text.isdecimal())"
   ]
  },
  {
   "cell_type": "markdown",
   "metadata": {},
   "source": [
    "**isdigit() function**\n",
    "\n",
    "This function returns True if all the characters in the string and the Unicode characters are digits."
   ]
  },
  {
   "cell_type": "code",
   "execution_count": 35,
   "metadata": {},
   "outputs": [
    {
     "name": "stdout",
     "output_type": "stream",
     "text": [
      "True\n"
     ]
    }
   ],
   "source": [
    "numbered_text = '011235813'\n",
    "print(numbered_text.isdigit())"
   ]
  },
  {
   "cell_type": "markdown",
   "metadata": {},
   "source": [
    "**isidentifier() function**\n",
    "\n",
    "It returns True if the string is a valid identifier, on the contrary False."
   ]
  },
  {
   "cell_type": "code",
   "execution_count": 36,
   "metadata": {},
   "outputs": [
    {
     "name": "stdout",
     "output_type": "stream",
     "text": [
      "False\n",
      "True\n"
     ]
    }
   ],
   "source": [
    "numbered_text = '011235813'\n",
    "print(numbered_text.isidentifier())\n",
    "variable = 'numbered_text'\n",
    "print(variable.isidentifier())"
   ]
  },
  {
   "cell_type": "markdown",
   "metadata": {},
   "source": [
    "**isprintable() function**\n",
    "\n",
    "It returns True if all the characters in the string are printable features."
   ]
  },
  {
   "cell_type": "code",
   "execution_count": 37,
   "metadata": {},
   "outputs": [
    {
     "name": "stdout",
     "output_type": "stream",
     "text": [
      "True\n",
      "False\n",
      "True\n"
     ]
    }
   ],
   "source": [
    "text='Hello,Python!'\n",
    "print(text.isprintable())\n",
    "new_text='Hello, \\n Python!'\n",
    "print(new_text.isprintable())\n",
    "space=''\n",
    "print(space.isprintable())"
   ]
  },
  {
   "cell_type": "markdown",
   "metadata": {},
   "source": [
    "**isspace() function**\n",
    "\n",
    "It returns True if all the characters in the string are whitespaces."
   ]
  },
  {
   "cell_type": "code",
   "execution_count": 41,
   "metadata": {},
   "outputs": [
    {
     "name": "stdout",
     "output_type": "stream",
     "text": [
      "False\n",
      "True\n"
     ]
    }
   ],
   "source": [
    "text='Hello, Python!'\n",
    "print(text.isspace())\n",
    "space=' '\n",
    "print(space.isspace())"
   ]
  },
  {
   "cell_type": "code",
   "execution_count": 42,
   "metadata": {},
   "outputs": [
    {
     "name": "stdout",
     "output_type": "stream",
     "text": [
      "False\n",
      "True\n"
     ]
    }
   ],
   "source": [
    "text='Hello, Python!'\n",
    "print(text.isspace())\n",
    "space=' '\n",
    "print(space.isspace())"
   ]
  },
  {
   "cell_type": "markdown",
   "metadata": {},
   "source": [
    "**islower() and lower() functions**\n",
    "\n",
    "- The function islower() returns True if all the characters in the string are lower case, on the contrary False.\n",
    "\n",
    "- The function lower() converts the certain string to lower case."
   ]
  },
  {
   "cell_type": "code",
   "execution_count": 43,
   "metadata": {},
   "outputs": [
    {
     "name": "stdout",
     "output_type": "stream",
     "text": [
      "False\n",
      "True\n"
     ]
    }
   ],
   "source": [
    "text='Hello, Python!'\n",
    "print(text.islower())\n",
    "text=text.lower()       # It converts to lower case all the characters in the string.\n",
    "print(text.islower())    # Now, it retuns True."
   ]
  },
  {
   "cell_type": "markdown",
   "metadata": {},
   "source": [
    "**isupper() and upper() functions**\n",
    "\n",
    "- The function isupper() returns True if all the characters in the string are upper case, on the contrary False.\n",
    "\n",
    "- The function upper() converts the string to uppercase."
   ]
  },
  {
   "cell_type": "code",
   "execution_count": 44,
   "metadata": {},
   "outputs": [
    {
     "name": "stdout",
     "output_type": "stream",
     "text": [
      "False\n",
      "True\n"
     ]
    }
   ],
   "source": [
    "text='Hello, Python!'\n",
    "print(text.isupper())\n",
    "text=text.upper()        # It converts to upper case all the characters in the string.\n",
    "print(text.isupper())   # Now, it returns True."
   ]
  },
  {
   "cell_type": "markdown",
   "metadata": {},
   "source": [
    "**join() function**\n",
    "\n",
    "- It takes all items in an iterable and joins them into one string.\n",
    "\n",
    "- A string must be specified as the separator."
   ]
  },
  {
   "cell_type": "code",
   "execution_count": 45,
   "metadata": {},
   "outputs": [
    {
     "name": "stdout",
     "output_type": "stream",
     "text": [
      "Hello#World#Hi#Python\n",
      "Hello+World+Hi+Python\n",
      "Python--Hello--World--Hi\n",
      "val1--val2--val3--val4\n"
     ]
    }
   ],
   "source": [
    "text_list=['Hello', 'World', 'Hi', 'Python']\n",
    "print('#'.join(text_list))\n",
    "text_tuple=('Hello','World','Hi','Python')\n",
    "print('+'.join(text_tuple))\n",
    "text_set={'Hello','World','Hi','Python'}\n",
    "print('--'.join(text_set))\n",
    "text_dict={'val1': 'Hello', 'val2': 'World', 'val3': 'Hi', 'val4': 'Python'}\n",
    "print('--'.join(text_dict))"
   ]
  },
  {
   "cell_type": "markdown",
   "metadata": {},
   "source": [
    "**ljust() function**\n",
    "\n",
    "It returns the left justified version of the certain string."
   ]
  },
  {
   "cell_type": "code",
   "execution_count": 46,
   "metadata": {},
   "outputs": [
    {
     "name": "stdout",
     "output_type": "stream",
     "text": [
      "Python------------------------ is my favorite programming language.\n"
     ]
    }
   ],
   "source": [
    "text='Python'\n",
    "text=text.ljust(30,'-')\n",
    "print(text,'is my favorite programming language.')"
   ]
  },
  {
   "cell_type": "markdown",
   "metadata": {},
   "source": [
    "**rjust() function**\n",
    "\n",
    "It returns the right justified version of the certain string."
   ]
  },
  {
   "cell_type": "code",
   "execution_count": 47,
   "metadata": {},
   "outputs": [
    {
     "name": "stdout",
     "output_type": "stream",
     "text": [
      "------------------------Python is my favorite programming language.\n"
     ]
    }
   ],
   "source": [
    "text='Python'\n",
    "text=text.rjust(30,'-')\n",
    "print(text,'is my favorite programming language.')"
   ]
  },
  {
   "cell_type": "markdown",
   "metadata": {},
   "source": [
    "**lstrip() function**\n",
    "\n",
    "It removes characters from the left based on the argument (a string specifying the set of characters to be\n",
    "removed)."
   ]
  },
  {
   "cell_type": "code",
   "execution_count": 48,
   "metadata": {},
   "outputs": [
    {
     "name": "stdout",
     "output_type": "stream",
     "text": [
      "Hello Python! \n"
     ]
    }
   ],
   "source": [
    "text = ' Hello Python! '\n",
    "print(text.lstrip()) # It did not delete the white spaces in the right side. "
   ]
  },
  {
   "cell_type": "markdown",
   "metadata": {},
   "source": [
    "**rstrip() function**\n",
    "\n",
    "It removes characters from the right based on the argument (a string specifying the set of characters to be\n",
    "removed)."
   ]
  },
  {
   "cell_type": "code",
   "execution_count": 49,
   "metadata": {},
   "outputs": [
    {
     "name": "stdout",
     "output_type": "stream",
     "text": [
      " Hello Python!\n"
     ]
    }
   ],
   "source": [
    "text = ' Hello Python! '\n",
    "print(text.rstrip())  # It did not delete the white spaces in the left side. "
   ]
  },
  {
   "cell_type": "markdown",
   "metadata": {},
   "source": [
    "**replace() function**\n",
    "\n",
    "Replaces a specified phrase with another specified phrase."
   ]
  },
  {
   "cell_type": "code",
   "execution_count": 1,
   "metadata": {},
   "outputs": [
    {
     "name": "stdout",
     "output_type": "stream",
     "text": [
      "JavaScript is a programming language.\n",
      "Python is a programming language.\n"
     ]
    }
   ],
   "source": [
    "text='JavaScript is a programming language.'\n",
    "print(text)\n",
    "modified_text=text.replace('JavaScript','Python',1)\n",
    "print(modified_text)"
   ]
  },
  {
   "cell_type": "code",
   "execution_count": 2,
   "metadata": {},
   "outputs": [
    {
     "name": "stdout",
     "output_type": "stream",
     "text": [
      "Jython is a programming language.\n",
      "Python is a programming language.\n"
     ]
    }
   ],
   "source": [
    "text='Jython is a programming language.'\n",
    "print(text)\n",
    "modified_text=text.replace('J','P')\n",
    "print(modified_text)"
   ]
  },
  {
   "cell_type": "markdown",
   "metadata": {},
   "source": [
    "**partition() function**\n",
    "\n",
    "- It searches for a specified string, and splits the string into a tuple containing three elements.\n",
    "\n",
    "- The first element contains the part before the specified string.\n",
    "\n",
    "- The second element contains the specified string.\n",
    "\n",
    "- The third element contains the part after the string."
   ]
  },
  {
   "cell_type": "code",
   "execution_count": 1,
   "metadata": {},
   "outputs": [
    {
     "name": "stdout",
     "output_type": "stream",
     "text": [
      "('Hello World!, ', 'Hi', ' Python!')\n"
     ]
    }
   ],
   "source": [
    "text='Hello World!, Hi Python!'\n",
    "print(text.partition('Hi'))"
   ]
  },
  {
   "cell_type": "markdown",
   "metadata": {},
   "source": [
    "**rfind() function**\n",
    "\n",
    "- The **rfind()** method finds the last occurrence of the specified value.\n",
    "\n",
    "- The **rfind()** method returns **-1** if the value is not found.\n",
    "\n",
    "- The **rfind()** method is almost **the same as the rindex() method**."
   ]
  },
  {
   "cell_type": "code",
   "execution_count": 5,
   "metadata": {},
   "outputs": [
    {
     "name": "stdout",
     "output_type": "stream",
     "text": [
      "'Python' is in the position 7.\n",
      "'my' is in the position 17.\n",
      "'close' is in the position -1.\n"
     ]
    }
   ],
   "source": [
    "text='Hello, Python is my favorite programming language.'\n",
    "print(f\"'Python' is in the position {text.rfind('Python')}.\")\n",
    "print(f\"'my' is in the position {text.rfind('my')}.\")\n",
    "print(f\"'close' is in the position {text.rfind('close')}.\")"
   ]
  },
  {
   "cell_type": "markdown",
   "metadata": {},
   "source": [
    "**rindex() function**\n",
    "\n",
    "- The **rindex()** method finds the last occurrence of the specified value.\n",
    "\n",
    "- The **rindex()** method raises a **ValueError** exception if the value is not found.\n",
    "\n",
    "- The **rindex()** method is almost **the same as the rfind() method**."
   ]
  },
  {
   "cell_type": "code",
   "execution_count": 6,
   "metadata": {},
   "outputs": [
    {
     "name": "stdout",
     "output_type": "stream",
     "text": [
      "'Python' is in the position 6.\n",
      "'my' is in the position 16.\n"
     ]
    },
    {
     "ename": "ValueError",
     "evalue": "substring not found",
     "output_type": "error",
     "traceback": [
      "\u001b[1;31m---------------------------------------------------------------------------\u001b[0m",
      "\u001b[1;31mValueError\u001b[0m                                Traceback (most recent call last)",
      "Cell \u001b[1;32mIn[6], line 4\u001b[0m\n\u001b[0;32m      2\u001b[0m \u001b[38;5;28mprint\u001b[39m(\u001b[38;5;124mf\u001b[39m\u001b[38;5;124m\"\u001b[39m\u001b[38;5;124m'\u001b[39m\u001b[38;5;124mPython\u001b[39m\u001b[38;5;124m'\u001b[39m\u001b[38;5;124m is in the position \u001b[39m\u001b[38;5;132;01m{\u001b[39;00mtext\u001b[38;5;241m.\u001b[39mrindex(\u001b[38;5;124m'\u001b[39m\u001b[38;5;124mPython\u001b[39m\u001b[38;5;124m'\u001b[39m)\u001b[38;5;132;01m}\u001b[39;00m\u001b[38;5;124m.\u001b[39m\u001b[38;5;124m\"\u001b[39m)\n\u001b[0;32m      3\u001b[0m \u001b[38;5;28mprint\u001b[39m(\u001b[38;5;124mf\u001b[39m\u001b[38;5;124m\"\u001b[39m\u001b[38;5;124m'\u001b[39m\u001b[38;5;124mmy\u001b[39m\u001b[38;5;124m'\u001b[39m\u001b[38;5;124m is in the position \u001b[39m\u001b[38;5;132;01m{\u001b[39;00mtext\u001b[38;5;241m.\u001b[39mrindex(\u001b[38;5;124m'\u001b[39m\u001b[38;5;124mmy\u001b[39m\u001b[38;5;124m'\u001b[39m)\u001b[38;5;132;01m}\u001b[39;00m\u001b[38;5;124m.\u001b[39m\u001b[38;5;124m\"\u001b[39m)\n\u001b[1;32m----> 4\u001b[0m \u001b[38;5;28mprint\u001b[39m(\u001b[38;5;124mf\u001b[39m\u001b[38;5;124m\"\u001b[39m\u001b[38;5;124m'\u001b[39m\u001b[38;5;124mclose\u001b[39m\u001b[38;5;124m'\u001b[39m\u001b[38;5;124m is in the position \u001b[39m\u001b[38;5;132;01m{\u001b[39;00m\u001b[43mtext\u001b[49m\u001b[38;5;241;43m.\u001b[39;49m\u001b[43mrindex\u001b[49m\u001b[43m(\u001b[49m\u001b[38;5;124;43m'\u001b[39;49m\u001b[38;5;124;43mClose\u001b[39;49m\u001b[38;5;124;43m'\u001b[39;49m\u001b[43m)\u001b[49m\u001b[38;5;132;01m}\u001b[39;00m\u001b[38;5;124m.\u001b[39m\u001b[38;5;124m\"\u001b[39m)\n",
      "\u001b[1;31mValueError\u001b[0m: substring not found"
     ]
    }
   ],
   "source": [
    "text='Hello,Python is my favourite programming language.'\n",
    "print(f\"'Python' is in the position {text.rindex('Python')}.\")\n",
    "print(f\"'my' is in the position {text.rindex('my')}.\")\n",
    "print(f\"'close' is in the position {text.rindex('Close')}.\")"
   ]
  },
  {
   "cell_type": "markdown",
   "metadata": {},
   "source": [
    "**swapcase() function**\n",
    "\n",
    "This function converts the uppercase characters into lowercase and vice versa."
   ]
  },
  {
   "cell_type": "code",
   "execution_count": 8,
   "metadata": {},
   "outputs": [
    {
     "name": "stdout",
     "output_type": "stream",
     "text": [
      "hELLO pYTHON\n",
      "Hello Python!\n"
     ]
    }
   ],
   "source": [
    "text='Hello Python'\n",
    "print(text.swapcase())\n",
    "text='hELLO pYTHON!'\n",
    "print(text.swapcase())"
   ]
  },
  {
   "cell_type": "markdown",
   "metadata": {},
   "source": [
    "**title() function**\n",
    "\n",
    "This function converts the first character in the given string into uppercase."
   ]
  },
  {
   "cell_type": "code",
   "execution_count": 9,
   "metadata": {},
   "outputs": [
    {
     "name": "stdout",
     "output_type": "stream",
     "text": [
      "Hello World, Hi Python!\n"
     ]
    }
   ],
   "source": [
    "text='hello world, hi python!'\n",
    "print(text.title())"
   ]
  }
 ],
 "metadata": {
  "kernelspec": {
   "display_name": "Python 3",
   "language": "python",
   "name": "python3"
  },
  "language_info": {
   "codemirror_mode": {
    "name": "ipython",
    "version": 3
   },
   "file_extension": ".py",
   "mimetype": "text/x-python",
   "name": "python",
   "nbconvert_exporter": "python",
   "pygments_lexer": "ipython3",
   "version": "3.10.11"
  }
 },
 "nbformat": 4,
 "nbformat_minor": 2
}

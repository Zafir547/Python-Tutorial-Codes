{
 "cells": [
  {
   "cell_type": "markdown",
   "metadata": {},
   "source": [
    "# **14. Writing Files in Python**\n",
    "\n",
    "To write to a text file in Python, you follow these steps:\n",
    "\n",
    "- First, open the text file for writing (or appending) using the open() function.\n",
    "\n",
    "- Second, write to the text file using the write() or writelines() method.\n",
    "\n",
    "- Third, close the file using the close() method.\n"
   ]
  },
  {
   "cell_type": "code",
   "execution_count": 18,
   "metadata": {},
   "outputs": [],
   "source": [
    "# Writing lines to a file.\n",
    "fname = 'pcr_file1.txt'\n",
    "with open(fname,'w') as f:\n",
    "    f.write(\"I dedicate this book to Nancy Lier Cosgrove Mullis.\\n\")\n",
    "    f.write(\"Jean-Paul Sartre somewhere observed that we each of us make our own hell out of the people around us. Had Jean-Paul known Nancy, he may have noted that at least one man, someday, might get very lucky, and make his own heaven out of one of the people around him. She will be his morning and his evening star, shining with the brightest and the softest light his heaven. She will be the end of his wanderings, and their love will arouse the daffodils in the spring to follow the crocuses and precede the irises. Their faith in one another will be deeper than time and their eternal spirit will be seamless once again.\\n\")\n",
    "    f.write(\"Or maybe he would have just said, 'If I would had a woman like that, my books would not have been about despair.\\n\")\n",
    "    f.write(\"This book is not about despair. It is about a little bit of a lot of things, and, if not a single one of them is wet with sadness, it is not due to my lack of depth; it is due to a year of Nancy, and the prospect of never again being without her.\\n\") \n",
    "    f.write(\"A feedback from Elle on the book\\n\")\n",
    "    f.write(\"This bona-fide wild card of the scientific community writes with eccentric gusto.… Mullis has created a free wheeling adventure yarn that just happens to be the story of his life.\\n\")"
   ]
  },
  {
   "cell_type": "code",
   "execution_count": 19,
   "metadata": {},
   "outputs": [
    {
     "name": "stdout",
     "output_type": "stream",
     "text": [
      "I dedicate this book to Nancy Lier Cosgrove Mullis.\n",
      "Jean-Paul Sartre somewhere observed that we each of us make our own hell out of the people around us. Had Jean-Paul known Nancy, he may have noted that at least one man, someday, might get very lucky, and make his own heaven out of one of the people around him. She will be his morning and his evening star, shining with the brightest and the softest light his heaven. She will be the end of his wanderings, and their love will arouse the daffodils in the spring to follow the crocuses and precede the irises. Their faith in one another will be deeper than time and their eternal spirit will be seamless once again.\n",
      "Or maybe he would have just said, 'If I would had a woman like that, my books would not have been about despair.\n",
      "This book is not about despair. It is about a little bit of a lot of things, and, if not a single one of them is wet with sadness, it is not due to my lack of depth; it is due to a year of Nancy, and the prospect of never again being without her.\n",
      "A feedback from Elle on the book\n",
      "This bona-fide wild card of the scientific community writes with eccentric gusto.… Mullis has created a free wheeling adventure yarn that just happens to be the story of his life.\n",
      "\n"
     ]
    }
   ],
   "source": [
    "# Checking the file weather it was written or not\n",
    "with open(fname,'r') as f:\n",
    "    content = f.read()\n",
    "    print(content)"
   ]
  },
  {
   "cell_type": "code",
   "execution_count": 20,
   "metadata": {},
   "outputs": [
    {
     "name": "stdout",
     "output_type": "stream",
     "text": [
      "From The Yorker\n",
      "\n",
      "Entertaini ng … [Mullis is] usefully cranky and combative, raising provocative questions about received truths from the scientific establishment.\n",
      "\n",
      "From Chicago Sun-Times\n",
      "\n",
      "One of the most unusual scientists of our times, a man who would be a joy to put under a microscope.\n",
      "\n",
      "From Andrew Weil, M.D.\n",
      "\n",
      "In this entertaining romp through diverse fields of inquiry, [Mullis] displays the openmindedness, eccentricity, brilliance, and general curmudgeonliness that make him the colorful chracter he is. His stories are engaging, informative, and fun.\n"
     ]
    }
   ],
   "source": [
    "# Writing a list to a file\n",
    "added_text = [\"From The Yorker\\n\",\n",
    "              \"Entertaini ng … [Mullis is] usefully cranky and combative, raising provocative questions about received truths from the scientific establishment.\\n\",\n",
    "              \"From Chicago Sun-Times\\n\",\n",
    "              \"One of the most unusual scientists of our times, a man who would be a joy to put under a microscope.\\n\",\n",
    "              \"From Andrew Weil, M.D.\\n\",\n",
    "              \"In this entertaining romp through diverse fields of inquiry, [Mullis] displays the openmindedness, eccentricity, brilliance, and general curmudgeonliness that make him the colorful chracter he is. His stories are engaging, informative, and fun.\"\n",
    "              ]\n",
    "\n",
    "fname = 'sample.txt'\n",
    "with open(fname,'w') as f:\n",
    "    for line in added_text:\n",
    "        print(line)\n",
    "        f.write(line)"
   ]
  },
  {
   "cell_type": "code",
   "execution_count": 21,
   "metadata": {},
   "outputs": [],
   "source": [
    "# Let's copy the text # Let's copy the text file 'pcr_file1.txt' to another one 'pcr_file_2.txt'\n",
    "fname = 'pcr_file1.txt'\n",
    "with open(fname,'r') as f_reading:\n",
    "    with open('pcr_file_2.txt','w') as f_writing:\n",
    "        for line in f_reading:\n",
    "            f_writing.write(line)"
   ]
  },
  {
   "cell_type": "code",
   "execution_count": 22,
   "metadata": {},
   "outputs": [
    {
     "name": "stdout",
     "output_type": "stream",
     "text": [
      "I dedicate this book to Nancy Lier Cosgrove Mullis.\n",
      "Jean-Paul Sartre somewhere observed that we each of us make our own hell out of the people around us. Had Jean-Paul known Nancy, he may have noted that at least one man, someday, might get very lucky, and make his own heaven out of one of the people around him. She will be his morning and his evening star, shining with the brightest and the softest light his heaven. She will be the end of his wanderings, and their love will arouse the daffodils in the spring to follow the crocuses and precede the irises. Their faith in one another will be deeper than time and their eternal spirit will be seamless once again.\n",
      "Or maybe he would have just said, 'If I would had a woman like that, my books would not have been about despair.\n",
      "This book is not about despair. It is about a little bit of a lot of things, and, if not a single one of them is wet with sadness, it is not due to my lack of depth; it is due to a year of Nancy, and the prospect of never again being without her.\n",
      "A feedback from Elle on the book\n",
      "This bona-fide wild card of the scientific community writes with eccentric gusto.… Mullis has created a free wheeling adventure yarn that just happens to be the story of his life.\n",
      "\n"
     ]
    }
   ],
   "source": [
    "# FOr the verification, execute the following codes\n",
    "fname = 'pcr_file_2.txt'\n",
    "with open(fname,'r') as f:\n",
    "    print(f.read())\n",
    "\n",
    "# Now, there are 2 files from the same file content.     "
   ]
  },
  {
   "cell_type": "markdown",
   "metadata": {},
   "source": [
    "### **Appending files**"
   ]
  },
  {
   "cell_type": "code",
   "execution_count": 23,
   "metadata": {},
   "outputs": [
    {
     "name": "stdout",
     "output_type": "stream",
     "text": [
      "Overright\n",
      "\n"
     ]
    }
   ],
   "source": [
    "# Writing and then reading the file\n",
    "new_file = 'pcrr_file1.txt'\n",
    "with open(new_file,'w') as f:\n",
    "    f.write('Overright\\n')\n",
    "with open(new_file,'r') as f:\n",
    "    print(f.read())    "
   ]
  },
  {
   "cell_type": "code",
   "execution_count": 24,
   "metadata": {},
   "outputs": [
    {
     "name": "stdout",
     "output_type": "stream",
     "text": [
      "Overright\n",
      "I dedicate this book to Nancy Lier Cosgrove Mullis.\n",
      "Jean-Paul Sartre somewhere observed that we each of us make our own hell out of the people around us. Had Jean-Paul known Nancy, he may have noted that at least one man, someday, might get very lucky, and make his own heaven out of one of the people around him. She will be his morning and his evening star, shining with the brightest and the softest light his heaven. She will be the end of his wanderings, and their love will arouse the daffodils in the spring to follow the crocuses and precede the irises. Their faith in one another will be deeper than time and their eternal spirit will be seamless once again.\n",
      "Or maybe he would have just said, 'If I would had a woman like that, my books would not have been about despair.\n",
      "This book is not about despair. It is about a little bit of a lot of things, and, if not a single one of them is wet with sadness, it is not due to my lack of depth; it is due to a year of Nancy, and the prospect of never again being without her.\n",
      "A feedback from Elle on the book\n",
      "This bona-fide wild card of the scientific community writes with eccentric gusto.… Mullis has created a free wheeling adventure yarn that just happens to be the story of his life.\n",
      "\n"
     ]
    }
   ],
   "source": [
    "# Writing a new line to the text file\n",
    "with open(new_file, 'a') as f:\n",
    "    f.write(\"I dedicate this book to Nancy Lier Cosgrove Mullis.\\n\")\n",
    "    f.write(\"Jean-Paul Sartre somewhere observed that we each of us make our own hell out of the people around us. Had Jean-Paul known Nancy, he may have noted that at least one man, someday, might get very lucky, and make his own heaven out of one of the people around him. She will be his morning and his evening star, shining with the brightest and the softest light his heaven. She will be the end of his wanderings, and their love will arouse the daffodils in the spring to follow the crocuses and precede the irises. Their faith in one another will be deeper than time and their eternal spirit will be seamless once again.\\n\")\n",
    "    f.write(\"Or maybe he would have just said, 'If I would had a woman like that, my books would not have been about despair.\\n\")\n",
    "    f.write(\"This book is not about despair. It is about a little bit of a lot of things, and, if not a single one of them is wet with sadness, it is not due to my lack of depth; it is due to a year of Nancy, and the prospect of never again being without her.\\n\") \n",
    "    f.write(\"A feedback from Elle on the book\\n\")\n",
    "    f.write(\"This bona-fide wild card of the scientific community writes with eccentric gusto.… Mullis has created a free wheeling adventure yarn that just happens to be the story of his life.\\n\")\n",
    "\n",
    "# Verification of the new lines in the text file\n",
    "with open(new_file,'r') as f:\n",
    "    print(f.read())"
   ]
  },
  {
   "cell_type": "markdown",
   "metadata": {},
   "source": [
    "### **Other modes**"
   ]
  },
  {
   "cell_type": "markdown",
   "metadata": {},
   "source": [
    "**a+**\n",
    "\n",
    "Appending and Reading. Creates a new file, if none exists."
   ]
  },
  {
   "cell_type": "code",
   "execution_count": 25,
   "metadata": {},
   "outputs": [
    {
     "name": "stdout",
     "output_type": "stream",
     "text": [
      "\n"
     ]
    }
   ],
   "source": [
    "fname = 'pcrr_file1.txt'\n",
    "with open(fname, 'a+') as f:\n",
    "    f.write(\"From F.Lee Bailey\\n\")\n",
    "    f.write(\"A very good book by a fascinating man.… [Mullis] enjoys an almost frighteningly brilliant mind and yet somehow manages to keep his feet firmly on the ground.… This guy cuts through the nonsense to the quick, tells it like it is, and manages to do so with insouciance [and] occasional puckishness.… But lighter moments aside, what he has to say is important\")\n",
    "    print(f.read())"
   ]
  },
  {
   "cell_type": "code",
   "execution_count": 26,
   "metadata": {},
   "outputs": [
    {
     "name": "stdout",
     "output_type": "stream",
     "text": [
      "Overright\n",
      "I dedicate this book to Nancy Lier Cosgrove Mullis.\n",
      "Jean-Paul Sartre somewhere observed that we each of us make our own hell out of the people around us. Had Jean-Paul known Nancy, he may have noted that at least one man, someday, might get very lucky, and make his own heaven out of one of the people around him. She will be his morning and his evening star, shining with the brightest and the softest light his heaven. She will be the end of his wanderings, and their love will arouse the daffodils in the spring to follow the crocuses and precede the irises. Their faith in one another will be deeper than time and their eternal spirit will be seamless once again.\n",
      "Or maybe he would have just said, 'If I would had a woman like that, my books would not have been about despair.\n",
      "This book is not about despair. It is about a little bit of a lot of things, and, if not a single one of them is wet with sadness, it is not due to my lack of depth; it is due to a year of Nancy, and the prospect of never again being without her.\n",
      "A feedback from Elle on the book\n",
      "This bona-fide wild card of the scientific community writes with eccentric gusto.… Mullis has created a free wheeling adventure yarn that just happens to be the story of his life.\n",
      "From F.Lee Bailey\n",
      "A very good book by a fascinating man.… [Mullis] enjoys an almost frighteningly brilliant mind and yet somehow manages to keep his feet firmly on the ground.… This guy cuts through the nonsense to the quick, tells it like it is, and manages to do so with insouciance [and] occasional puckishness.… But lighter moments aside, what he has to say is important\n"
     ]
    }
   ],
   "source": [
    "# To verify text file whether it is added or not\n",
    "with open(fname,'r') as f:\n",
    "    print(f.read())"
   ]
  },
  {
   "cell_type": "markdown",
   "metadata": {},
   "source": [
    "**tell() and seek() functions with a+**"
   ]
  },
  {
   "cell_type": "code",
   "execution_count": 13,
   "metadata": {},
   "outputs": [
    {
     "name": "stdout",
     "output_type": "stream",
     "text": [
      "First location:1633\n",
      "Read nothing.\n",
      "\n",
      "Second location: 0\n",
      "Overright\n",
      "I dedicate this book to Nancy Lier Cosgrove Mullis.\n",
      "Jean-Paul Sartre somewhere observed that we each of us make our own hell out of the people around us. Had Jean-Paul known Nancy, he may have noted that at least one man, someday, might get very lucky, and make his own heaven out of one of the people around him. She will be his morning and his evening star, shining with the brightest and the softest light his heaven. She will be the end of his wanderings, and their love will arouse the daffodils in the spring to follow the crocuses and precede the irises. Their faith in one another will be deeper than time and their eternal spirit will be seamless once again.\n",
      "Or maybe he would have just said, 'If I would had a woman like that, my books would not have been about despair.\n",
      "This book is not about despair. It is about a little bit of a lot of things, and, if not a single one of them is wet with sadness, it is not due to my lack of depth; it is due to a year of Nancy, and the prospect of never again being without her.\n",
      "A feedback from Elle on the book\n",
      "This bona-fide wild card of the scientific community writes with eccentric gusto.… Mullis has created a free wheeling adventure yarn that just happens to be the story of his life.\n",
      "From F.Lee Bailey\n",
      "A very good book by a fascinating man.… [Mullis] enjoys an almost frighteningly brilliant mind and yet somehow manages to keep his feet firmly on the ground.… This guy cuts through the nonsense to the quick, tells it like it is, and manages to do so with insouciance [and] occasional puckishness.… But lighter moments aside, what he has to say is important\n",
      "Location after reading: 1633\n"
     ]
    }
   ],
   "source": [
    "with open(fname,'a+') as f:\n",
    "    print(\"First location:{}\".format(f.tell()))\n",
    "\n",
    "    content = f.read()\n",
    "    if not content:\n",
    "        print('Read nothing.')\n",
    "    else:\n",
    "        print(f.read())\n",
    "    f.seek(0,0)\n",
    "    \"\"\"\n",
    "    seek() function is used to change the position of the File Handle to a given specific position. \n",
    "    File handle is like a cursor, which defines from where the data has to be read or written in the file. \n",
    "    Syntax: f.seek(offset, from_what), where f is file pointer\n",
    "    Parameters: \n",
    "    Offset: Number of positions to move forward \n",
    "    from_what: It defines point of reference.\n",
    "    Returns: Return the new absolute position.\n",
    "    The reference point is selected by the from_what argument. It accepts three values: \n",
    "        0: sets the reference point at the beginning of the file \n",
    "        1: sets the reference point at the current file position \n",
    "        2: sets the reference point at the end of the file\n",
    "    \"\"\"\n",
    "    print('\\nSecond location: {}'.format(f.tell()))\n",
    "    content = f.read()\n",
    "    if not content:\n",
    "        print('Read nothing.')\n",
    "    else:\n",
    "        print(content)\n",
    "    print('Location after reading: {}'.format(f.tell()))            "
   ]
  },
  {
   "cell_type": "markdown",
   "metadata": {},
   "source": [
    "**r+**\n",
    "\n",
    "Reading and writing. Cannot truncate the file."
   ]
  },
  {
   "cell_type": "code",
   "execution_count": 27,
   "metadata": {},
   "outputs": [
    {
     "name": "stdout",
     "output_type": "stream",
     "text": [
      "From The San Diego Union-Tribune\n",
      "Refreshing … brashly confident … indisputably entertaining.\n",
      "To my family...\n",
      " of us make our own hell out of the people around us. Had Jean-Paul known Nancy, he may have noted that at least one man, someday, might get very lucky, and make his own heaven out of one of the people around him. She will be his morning and his evening star, shining with the brightest and the softest light his heaven. She will be the end of his wanderings, and their love will arouse the daffodils in the spring to follow the crocuses and precede the irises. Their faith in one another will be deeper than time and their eternal spirit will be seamless once again.\n",
      "Or maybe he would have just said, 'If I would had a woman like that, my books would not have been about despair.\n",
      "This book is not about despair. It is about a little bit of a lot of things, and, if not a single one of them is wet with sadness, it is not due to my lack of depth; it is due to a year of Nancy, and the prospect of never again being without her.\n",
      "A feedback from Elle on the book\n",
      "This bona-fide wild card of the scientific community writes with eccentric gusto.… Mullis has created a free wheeling adventure yarn that just happens to be the story of his life.\n",
      "From F.Lee Bailey\n",
      "A very good book by a fascinating man.… [Mullis] enjoys an almost frighteningly brilliant mind and yet somehow manages to keep his feet firmly on the ground.… This guy cuts through the nonsense to the quick, tells it like it is, and manages to do so with insouciance [and] occasional puckishness.… But lighter moments aside, what he has to say is important\n"
     ]
    }
   ],
   "source": [
    "with open(fname, 'r+') as f:\n",
    "    content = f.readlines()\n",
    "    f.seek(0,0)       # writing at the beginning of the file\n",
    "    f.write('From The San Diego Union-Tribune'+'\\n')\n",
    "    f.write(\"Refreshing … brashly confident … indisputably entertaining.\"+\"\\n\")\n",
    "    f.write(\"To my family...\"+'\\n')\n",
    "    f.seek(0,0)\n",
    "    print(f.read())"
   ]
  },
  {
   "cell_type": "markdown",
   "metadata": {},
   "source": [
    "### **Copy the file**"
   ]
  },
  {
   "cell_type": "code",
   "execution_count": 32,
   "metadata": {},
   "outputs": [],
   "source": [
    "# Let's copy the text file 'pcrr_file.txt' to another one 'pcr_File_1.txt'\n",
    "fname = 'pcrr_file1.txt'\n",
    "with open(fname,'r') as f_reading:\n",
    "    with open('pcrr_file2.txt','w') as f_writing:\n",
    "        for line in f_reading:\n",
    "            f_writing.write(line)"
   ]
  },
  {
   "cell_type": "code",
   "execution_count": 33,
   "metadata": {},
   "outputs": [
    {
     "name": "stdout",
     "output_type": "stream",
     "text": [
      "From The San Diego Union-Tribune\n",
      "Refreshing … brashly confident … indisputably entertaining.\n",
      "To my family...\n",
      " of us make our own hell out of the people around us. Had Jean-Paul known Nancy, he may have noted that at least one man, someday, might get very lucky, and make his own heaven out of one of the people around him. She will be his morning and his evening star, shining with the brightest and the softest light his heaven. She will be the end of his wanderings, and their love will arouse the daffodils in the spring to follow the crocuses and precede the irises. Their faith in one another will be deeper than time and their eternal spirit will be seamless once again.\n",
      "Or maybe he would have just said, 'If I would had a woman like that, my books would not have been about despair.\n",
      "This book is not about despair. It is about a little bit of a lot of things, and, if not a single one of them is wet with sadness, it is not due to my lack of depth; it is due to a year of Nancy, and the prospect of never again being without her.\n",
      "A feedback from Elle on the book\n",
      "This bona-fide wild card of the scientific community writes with eccentric gusto.… Mullis has created a free wheeling adventure yarn that just happens to be the story of his life.\n",
      "From F.Lee Bailey\n",
      "A very good book by a fascinating man.… [Mullis] enjoys an almost frighteningly brilliant mind and yet somehow manages to keep his feet firmly on the ground.… This guy cuts through the nonsense to the quick, tells it like it is, and manages to do so with insouciance [and] occasional puckishness.… But lighter moments aside, what he has to say is important\n"
     ]
    }
   ],
   "source": [
    "# For the verification execute the following codes\n",
    "fname = 'pcrr_file2.txt'\n",
    "with open(fname,'r') as f:\n",
    "    print(f.read())\n",
    "\n",
    "# Now, there are 2 files from the same file content."
   ]
  },
  {
   "cell_type": "markdown",
   "metadata": {},
   "source": [
    "### **Some example**"
   ]
  },
  {
   "cell_type": "code",
   "execution_count": 35,
   "metadata": {},
   "outputs": [
    {
     "name": "stdout",
     "output_type": "stream",
     "text": [
      "Daniela\n",
      "\n",
      "Axel\n",
      "\n",
      "Leonardo\n",
      "\n"
     ]
    }
   ],
   "source": [
    "# Writing the student names into a file\n",
    "fname = open(r'student_name.txt','w')\n",
    "for i in range(3):\n",
    "    name = input('Enter a student name:')\n",
    "    fname.write(name)\n",
    "    fname.write('\\n')      # To write names as a new line\n",
    "fname=open(r'student_name.txt','r')\n",
    "for line in fname:\n",
    "    print(line)\n",
    "fname.close()        \n"
   ]
  },
  {
   "cell_type": "code",
   "execution_count": 36,
   "metadata": {},
   "outputs": [
    {
     "name": "stdout",
     "output_type": "stream",
     "text": [
      "Daniel\n",
      "\n",
      "Axel\n",
      "\n",
      "Leonardo\n",
      "\n"
     ]
    }
   ],
   "source": [
    "# To write the file\n",
    "fname = open(r'student_name.txt','w')\n",
    "name_list = []\n",
    "for i in range(3):\n",
    "    name = input('Enter a student name:')\n",
    "    name_list.append(name+'\\n')\n",
    "fname.writelines(name_list)\n",
    "\n",
    "# To read the file\n",
    "fname = open(r'student_name.txt','r')\n",
    "for line in fname:\n",
    "    print(line)\n",
    "fname.close()    "
   ]
  },
  {
   "cell_type": "code",
   "execution_count": 37,
   "metadata": {},
   "outputs": [
    {
     "name": "stdout",
     "output_type": "stream",
     "text": [
      "Hello, World!\n",
      "Hi,Python!\n",
      "\n"
     ]
    }
   ],
   "source": [
    "lines = ['Hello, World!','Hi,Python!']\n",
    "with open('new_file.txt','w') as f:\n",
    "    for line in lines:\n",
    "        f.write(line)\n",
    "        f.write('\\n')\n",
    "\n",
    "with open('new_file.txt','r') as f:\n",
    "    print(f.read())"
   ]
  },
  {
   "cell_type": "code",
   "execution_count": 38,
   "metadata": {},
   "outputs": [
    {
     "name": "stdout",
     "output_type": "stream",
     "text": [
      "Hello, World!\n",
      "Hi,Python!\n",
      "Hi,Sun!\n",
      "Hello,Summer!\n",
      "Hi,See!\n"
     ]
    }
   ],
   "source": [
    "# Add more lines inot the file\n",
    "more_lines = ['Hi,Sun!','Hello,Summer!','Hi,See!']\n",
    "with open('new_file.txt','a') as f:\n",
    "    f.writelines('\\n'.join(more_lines))\n",
    "\n",
    "with open('new_file.txt','r') as f:\n",
    "    print(f.read())\n",
    "\n",
    "f.close()    "
   ]
  }
 ],
 "metadata": {
  "kernelspec": {
   "display_name": "Python 3",
   "language": "python",
   "name": "python3"
  },
  "language_info": {
   "codemirror_mode": {
    "name": "ipython",
    "version": 3
   },
   "file_extension": ".py",
   "mimetype": "text/x-python",
   "name": "python",
   "nbconvert_exporter": "python",
   "pygments_lexer": "ipython3",
   "version": "3.10.11"
  }
 },
 "nbformat": 4,
 "nbformat_minor": 2
}

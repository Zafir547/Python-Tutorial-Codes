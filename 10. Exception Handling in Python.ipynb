{
 "cells": [
  {
   "cell_type": "markdown",
   "metadata": {},
   "source": [
    "# 10. Exception Handling in Python\n",
    "\n",
    "- An exception is an event, which occurs during the execution of a program that disrupts the normal flow of the program's instructions.\n",
    "\n",
    "- In general, when a Python script encounters a situation that it cannot cope with, it raises an exception.\n",
    "\n",
    "- An exception is a Python object that represents an error.\n",
    "\n",
    "- When a Python script raises an exception, it must either handle the exception immediately otherwise it terminates and quits.\n",
    "\n",
    "- If you have some suspicious code that may raise an exception, you can defend your program by placing the suspicious code in a try: block.\n",
    "\n",
    "- After the try: block, include an except: statement, followed by a block of code which handles the problem as elegantly as possible.\n",
    "\n",
    "- Common exceptions\n",
    "   - ZeroDivisionError\n",
    "   - NameError\n",
    "   - ValueError\n",
    "   - IOError\n",
    "   - EOFError\n",
    "   - IdentationError"
   ]
  },
  {
   "cell_type": "markdown",
   "metadata": {},
   "source": []
  },
  {
   "cell_type": "code",
   "execution_count": 6,
   "metadata": {},
   "outputs": [
    {
     "name": "stdout",
     "output_type": "stream",
     "text": [
      "This code gives a ZeroDivisionError.\n"
     ]
    },
    {
     "ename": "ZeroDivisionError",
     "evalue": "division by zero",
     "output_type": "error",
     "traceback": [
      "\u001b[1;31m---------------------------------------------------------------------------\u001b[0m",
      "\u001b[1;31mZeroDivisionError\u001b[0m                         Traceback (most recent call last)",
      "Cell \u001b[1;32mIn[6], line 6\u001b[0m\n\u001b[0;32m      4\u001b[0m \u001b[38;5;28;01mexcept\u001b[39;00m \u001b[38;5;167;01mZeroDivisionError\u001b[39;00m:\n\u001b[0;32m      5\u001b[0m     \u001b[38;5;28mprint\u001b[39m(\u001b[38;5;124m\"\u001b[39m\u001b[38;5;124mThis code gives a ZeroDivisionError.\u001b[39m\u001b[38;5;124m\"\u001b[39m)\n\u001b[1;32m----> 6\u001b[0m \u001b[38;5;28mprint\u001b[39m(\u001b[38;5;241;43m1\u001b[39;49m\u001b[38;5;241;43m/\u001b[39;49m\u001b[38;5;241;43m0\u001b[39;49m)        \n",
      "\u001b[1;31mZeroDivisionError\u001b[0m: division by zero"
     ]
    }
   ],
   "source": [
    "# If a number is divided by 0, it gives a ZeroDivisionError.\n",
    "try:\n",
    "    1/0\n",
    "except ZeroDivisionError:\n",
    "    print(\"This code gives a ZeroDivisionError.\")\n",
    "print(1/0)        "
   ]
  },
  {
   "cell_type": "code",
   "execution_count": 7,
   "metadata": {},
   "outputs": [
    {
     "name": "stdout",
     "output_type": "stream",
     "text": [
      "This code gives a ZeroDivisionError\n"
     ]
    },
    {
     "ename": "ZeroDivisionError",
     "evalue": "division by zero",
     "output_type": "error",
     "traceback": [
      "\u001b[1;31m---------------------------------------------------------------------------\u001b[0m",
      "\u001b[1;31mZeroDivisionError\u001b[0m                         Traceback (most recent call last)",
      "Cell \u001b[1;32mIn[7], line 9\u001b[0m\n\u001b[0;32m      6\u001b[0m \u001b[38;5;28;01mexcept\u001b[39;00m:\n\u001b[0;32m      7\u001b[0m     \u001b[38;5;28mprint\u001b[39m(\u001b[38;5;124m'\u001b[39m\u001b[38;5;124mThis code gives a ZeroDivisionError\u001b[39m\u001b[38;5;124m'\u001b[39m)\n\u001b[1;32m----> 9\u001b[0m \u001b[38;5;28mprint\u001b[39m(\u001b[43mcount\u001b[49m\u001b[38;5;241;43m/\u001b[39;49m\u001b[38;5;28;43mlen\u001b[39;49m\u001b[43m(\u001b[49m\u001b[43mnlis\u001b[49m\u001b[43m)\u001b[49m)\n",
      "\u001b[1;31mZeroDivisionError\u001b[0m: division by zero"
     ]
    }
   ],
   "source": [
    "nlis = []\n",
    "count = 0\n",
    "try:\n",
    "    mean = count/len(nlis)\n",
    "    print('The mena value is', mean)\n",
    "except:\n",
    "    print('This code gives a ZeroDivisionError')\n",
    "\n",
    "print(count/len(nlis))"
   ]
  },
  {
   "cell_type": "code",
   "execution_count": 8,
   "metadata": {},
   "outputs": [
    {
     "name": "stdout",
     "output_type": "stream",
     "text": [
      "The code gives a ZeroDivisionError.\n"
     ]
    },
    {
     "ename": "ZeroDivisionError",
     "evalue": "division by zero",
     "output_type": "error",
     "traceback": [
      "\u001b[1;31m---------------------------------------------------------------------------\u001b[0m",
      "\u001b[1;31mZeroDivisionError\u001b[0m                         Traceback (most recent call last)",
      "Cell \u001b[1;32mIn[8], line 7\u001b[0m\n\u001b[0;32m      4\u001b[0m \u001b[38;5;28;01mexcept\u001b[39;00m \u001b[38;5;167;01mZeroDivisionError\u001b[39;00m:\n\u001b[0;32m      5\u001b[0m     \u001b[38;5;28mprint\u001b[39m(\u001b[38;5;124m'\u001b[39m\u001b[38;5;124mThe code gives a ZeroDivisionError.\u001b[39m\u001b[38;5;124m'\u001b[39m)\n\u001b[1;32m----> 7\u001b[0m \u001b[38;5;28mprint\u001b[39m(\u001b[38;5;28;43;01mTrue\u001b[39;49;00m\u001b[38;5;241;43m/\u001b[39;49m\u001b[38;5;28;43;01mFalse\u001b[39;49;00m)\n",
      "\u001b[1;31mZeroDivisionError\u001b[0m: division by zero"
     ]
    }
   ],
   "source": [
    "# The folloaing code is like 1/0\n",
    "try:\n",
    "    True/False\n",
    "except ZeroDivisionError:\n",
    "    print('The code gives a ZeroDivisionError.')\n",
    "\n",
    "print(True/False)"
   ]
  },
  {
   "cell_type": "markdown",
   "metadata": {},
   "source": [
    "### **NameError**"
   ]
  },
  {
   "cell_type": "code",
   "execution_count": 1,
   "metadata": {},
   "outputs": [
    {
     "name": "stdout",
     "output_type": "stream",
     "text": [
      "This code gives a ZeroDivisionError\n"
     ]
    },
    {
     "ename": "NameError",
     "evalue": "name 'mean' is not defined",
     "output_type": "error",
     "traceback": [
      "\u001b[1;31m---------------------------------------------------------------------------\u001b[0m",
      "\u001b[1;31mNameError\u001b[0m                                 Traceback (most recent call last)",
      "Cell \u001b[1;32mIn[1], line 10\u001b[0m\n\u001b[0;32m      7\u001b[0m     \u001b[38;5;28mprint\u001b[39m(\u001b[38;5;124m'\u001b[39m\u001b[38;5;124mThis code gives a ZeroDivisionError\u001b[39m\u001b[38;5;124m'\u001b[39m)\n\u001b[0;32m      9\u001b[0m \u001b[38;5;66;03m# Since the variable 'mean' is not defined, it gives us a'NameError'\u001b[39;00m\n\u001b[1;32m---> 10\u001b[0m \u001b[38;5;28mprint\u001b[39m(\u001b[43mmean\u001b[49m)\n",
      "\u001b[1;31mNameError\u001b[0m: name 'mean' is not defined"
     ]
    }
   ],
   "source": [
    "nlis = []\n",
    "count = 0\n",
    "try:\n",
    "    mean = count/len(nlis)\n",
    "    print('The mean value is', mean)\n",
    "except:\n",
    "    print('This code gives a ZeroDivisionError')\n",
    "\n",
    "# Since the variable 'mean' is not defined, it gives us a'NameError'\n",
    "print(mean)"
   ]
  },
  {
   "cell_type": "code",
   "execution_count": 2,
   "metadata": {},
   "outputs": [
    {
     "name": "stdout",
     "output_type": "stream",
     "text": [
      "This code gives a NameError.\n"
     ]
    },
    {
     "ename": "NameError",
     "evalue": "name 'y' is not defined",
     "output_type": "error",
     "traceback": [
      "\u001b[1;31m---------------------------------------------------------------------------\u001b[0m",
      "\u001b[1;31mNameError\u001b[0m                                 Traceback (most recent call last)",
      "Cell \u001b[1;32mIn[2], line 6\u001b[0m\n\u001b[0;32m      3\u001b[0m \u001b[38;5;28;01mexcept\u001b[39;00m \u001b[38;5;167;01mNameError\u001b[39;00m:\n\u001b[0;32m      4\u001b[0m     \u001b[38;5;28mprint\u001b[39m(\u001b[38;5;124m'\u001b[39m\u001b[38;5;124mThis code gives a NameError.\u001b[39m\u001b[38;5;124m'\u001b[39m)\n\u001b[1;32m----> 6\u001b[0m \u001b[38;5;28mprint\u001b[39m(\u001b[43my\u001b[49m)\n",
      "\u001b[1;31mNameError\u001b[0m: name 'y' is not defined"
     ]
    }
   ],
   "source": [
    "try:\n",
    "    y = x+5\n",
    "except NameError:\n",
    "    print('This code gives a NameError.')\n",
    "\n",
    "print(y)"
   ]
  },
  {
   "cell_type": "code",
   "execution_count": 3,
   "metadata": {},
   "outputs": [
    {
     "name": "stdout",
     "output_type": "stream",
     "text": [
      "This function gives a NameError.\n"
     ]
    },
    {
     "ename": "NameError",
     "evalue": "name 'add' is not defined",
     "output_type": "error",
     "traceback": [
      "\u001b[1;31m---------------------------------------------------------------------------\u001b[0m",
      "\u001b[1;31mNameError\u001b[0m                                 Traceback (most recent call last)",
      "Cell \u001b[1;32mIn[3], line 7\u001b[0m\n\u001b[0;32m      4\u001b[0m     \u001b[38;5;28;01mreturn\u001b[39;00m z\n\u001b[0;32m      6\u001b[0m \u001b[38;5;28mprint\u001b[39m(\u001b[38;5;124m'\u001b[39m\u001b[38;5;124mThis function gives a NameError.\u001b[39m\u001b[38;5;124m'\u001b[39m)\n\u001b[1;32m----> 7\u001b[0m total \u001b[38;5;241m=\u001b[39m \u001b[43madd\u001b[49m(\u001b[38;5;241m3.14\u001b[39m,\u001b[38;5;241m1.618\u001b[39m)\n\u001b[0;32m      8\u001b[0m \u001b[38;5;28mprint\u001b[39m(total)\n",
      "\u001b[1;31mNameError\u001b[0m: name 'add' is not defined"
     ]
    }
   ],
   "source": [
    "# Define a function giving a NameError\n",
    "def addition(x,y):\n",
    "    z = x+y\n",
    "    return z\n",
    "\n",
    "print('This function gives a NameError.')\n",
    "total = add(3.14,1.618)\n",
    "print(total)"
   ]
  },
  {
   "cell_type": "code",
   "execution_count": 4,
   "metadata": {},
   "outputs": [
    {
     "name": "stdout",
     "output_type": "stream",
     "text": [
      "This code gives a NameError\n"
     ]
    },
    {
     "ename": "NameError",
     "evalue": "name 'Mustafa' is not defined",
     "output_type": "error",
     "traceback": [
      "\u001b[1;31m---------------------------------------------------------------------------\u001b[0m",
      "\u001b[1;31mNameError\u001b[0m                                 Traceback (most recent call last)",
      "Cell \u001b[1;32mIn[4], line 8\u001b[0m\n\u001b[0;32m      5\u001b[0m \u001b[38;5;28;01mexcept\u001b[39;00m \u001b[38;5;167;01mNameError\u001b[39;00m:\n\u001b[0;32m      6\u001b[0m     \u001b[38;5;28mprint\u001b[39m(\u001b[38;5;124m'\u001b[39m\u001b[38;5;124mThis code gives a NameError\u001b[39m\u001b[38;5;124m'\u001b[39m)\n\u001b[1;32m----> 8\u001b[0m name \u001b[38;5;241m=\u001b[39m (\u001b[43mMustafa\u001b[49m)\n\u001b[0;32m      9\u001b[0m \u001b[38;5;28mprint\u001b[39m(name, \u001b[38;5;124m'\u001b[39m\u001b[38;5;124mtoday is your wedding day.\u001b[39m\u001b[38;5;124m'\u001b[39m)\n",
      "\u001b[1;31mNameError\u001b[0m: name 'Mustafa' is not defined"
     ]
    }
   ],
   "source": [
    "# Since 'Mustafa' is not defined, the following code gives us a 'NameError'\n",
    "try:\n",
    "    name = (Mustafa)\n",
    "    print(name,'today is your wedding day.')\n",
    "except NameError:\n",
    "    print('This code gives a NameError')\n",
    "\n",
    "name = (Mustafa)\n",
    "print(name, 'today is your wedding day.')"
   ]
  },
  {
   "cell_type": "markdown",
   "metadata": {},
   "source": [
    "### **IndexError**"
   ]
  },
  {
   "cell_type": "code",
   "execution_count": 5,
   "metadata": {},
   "outputs": [
    {
     "name": "stdout",
     "output_type": "stream",
     "text": [
      "This code gives us a IndexError.\n"
     ]
    },
    {
     "ename": "IndexError",
     "evalue": "list index out of range",
     "output_type": "error",
     "traceback": [
      "\u001b[1;31m---------------------------------------------------------------------------\u001b[0m",
      "\u001b[1;31mIndexError\u001b[0m                                Traceback (most recent call last)",
      "Cell \u001b[1;32mIn[5], line 7\u001b[0m\n\u001b[0;32m      4\u001b[0m \u001b[38;5;28;01mexcept\u001b[39;00m \u001b[38;5;167;01mIndexError\u001b[39;00m:\n\u001b[0;32m      5\u001b[0m     \u001b[38;5;28mprint\u001b[39m(\u001b[38;5;124m'\u001b[39m\u001b[38;5;124mThis code gives us a IndexError.\u001b[39m\u001b[38;5;124m'\u001b[39m)\n\u001b[1;32m----> 7\u001b[0m \u001b[38;5;28mprint\u001b[39m(\u001b[43mnlis\u001b[49m\u001b[43m[\u001b[49m\u001b[38;5;241;43m10\u001b[39;49m\u001b[43m]\u001b[49m)\n",
      "\u001b[1;31mIndexError\u001b[0m: list index out of range"
     ]
    }
   ],
   "source": [
    "nlis = [0.577, 1.618, 2.718, 3.14, 6, 28, 37, 1729]\n",
    "try:\n",
    "    nlis[10]\n",
    "except IndexError:\n",
    "    print('This code gives us a IndexError.')\n",
    "\n",
    "print(nlis[10])"
   ]
  },
  {
   "cell_type": "code",
   "execution_count": 6,
   "metadata": {},
   "outputs": [
    {
     "name": "stdout",
     "output_type": "stream",
     "text": [
      "This code gives us a IndexError.\n"
     ]
    },
    {
     "ename": "IndexError",
     "evalue": "tuple index out of range",
     "output_type": "error",
     "traceback": [
      "\u001b[1;31m---------------------------------------------------------------------------\u001b[0m",
      "\u001b[1;31mIndexError\u001b[0m                                Traceback (most recent call last)",
      "Cell \u001b[1;32mIn[6], line 8\u001b[0m\n\u001b[0;32m      5\u001b[0m \u001b[38;5;28;01mexcept\u001b[39;00m \u001b[38;5;167;01mIndexError\u001b[39;00m:\n\u001b[0;32m      6\u001b[0m     \u001b[38;5;28mprint\u001b[39m(\u001b[38;5;124m'\u001b[39m\u001b[38;5;124mThis code gives us a IndexError.\u001b[39m\u001b[38;5;124m'\u001b[39m)\n\u001b[1;32m----> 8\u001b[0m \u001b[38;5;28mprint\u001b[39m(\u001b[43mtuple_sample\u001b[49m\u001b[43m[\u001b[49m\u001b[38;5;241;43m10\u001b[39;49m\u001b[43m]\u001b[49m)\n",
      "\u001b[1;31mIndexError\u001b[0m: tuple index out of range"
     ]
    }
   ],
   "source": [
    "# You can also supplytake this error type with tuple\n",
    "tuple_sample = (0.577, 1.618, 2.718, 3.14, 6, 28, 37, 1729)\n",
    "try:\n",
    "    tuple_sample[10]\n",
    "except IndexError:\n",
    "    print('This code gives us a IndexError.')\n",
    "\n",
    "print(tuple_sample[10])"
   ]
  },
  {
   "cell_type": "code",
   "execution_count": 7,
   "metadata": {},
   "outputs": [
    {
     "name": "stdout",
     "output_type": "stream",
     "text": [
      "This code gives us a KeyError.\n"
     ]
    },
    {
     "ename": "KeyError",
     "evalue": "'euler_number'",
     "output_type": "error",
     "traceback": [
      "\u001b[1;31m---------------------------------------------------------------------------\u001b[0m",
      "\u001b[1;31mKeyError\u001b[0m                                  Traceback (most recent call last)",
      "Cell \u001b[1;32mIn[7], line 7\u001b[0m\n\u001b[0;32m      4\u001b[0m \u001b[38;5;28;01mexcept\u001b[39;00m \u001b[38;5;167;01mKeyError\u001b[39;00m:\n\u001b[0;32m      5\u001b[0m     \u001b[38;5;28mprint\u001b[39m(\u001b[38;5;124m'\u001b[39m\u001b[38;5;124mThis code gives us a KeyError.\u001b[39m\u001b[38;5;124m'\u001b[39m)\n\u001b[1;32m----> 7\u001b[0m dictionary \u001b[38;5;241m=\u001b[39m \u001b[43mdictionary\u001b[49m\u001b[43m[\u001b[49m\u001b[38;5;124;43m'\u001b[39;49m\u001b[38;5;124;43meuler_number\u001b[39;49m\u001b[38;5;124;43m'\u001b[39;49m\u001b[43m]\u001b[49m\n\u001b[0;32m      8\u001b[0m \u001b[38;5;28mprint\u001b[39m(dictionary)\n",
      "\u001b[1;31mKeyError\u001b[0m: 'euler_number'"
     ]
    }
   ],
   "source": [
    "dictionary = {'eular_constant':0.577,'golden_ratio':1.618}\n",
    "try:\n",
    "    dictionary = dictionary['euler_number']\n",
    "except KeyError:\n",
    "    print('This code gives us a KeyError.')\n",
    "\n",
    "dictionary = dictionary['euler_number']\n",
    "print(dictionary)"
   ]
  },
  {
   "cell_type": "markdown",
   "metadata": {},
   "source": [
    "### **Exception Handling**\n",
    "\n",
    "try/except"
   ]
  },
  {
   "cell_type": "code",
   "execution_count": 8,
   "metadata": {},
   "outputs": [
    {
     "name": "stdout",
     "output_type": "stream",
     "text": [
      "Since the variable name is not defined, the function gives a NameError.\n"
     ]
    }
   ],
   "source": [
    "try:\n",
    "    print(name)\n",
    "except NameError:\n",
    "    print('Since the variable name is not defined, the function gives a NameError.')    "
   ]
  },
  {
   "cell_type": "code",
   "execution_count": 9,
   "metadata": {},
   "outputs": [
    {
     "name": "stdout",
     "output_type": "stream",
     "text": [
      "The entered value is 3.14\n",
      "The entered value is 0.577\n",
      "This process is running with value= 5.441941074523397\n"
     ]
    }
   ],
   "source": [
    "num1 = float(input('Enter a number:'))\n",
    "print('The entered value is',num1)\n",
    "try:\n",
    "    num2 = float(input('Enter a number:'))\n",
    "    print('The entered value is',num2)\n",
    "    value = num1/num2\n",
    "    print('This process is running with value=',value)\n",
    "except:\n",
    "    print('This process is not running.')    "
   ]
  },
  {
   "cell_type": "markdown",
   "metadata": {},
   "source": [
    "### **Multiple Except Blocks**\n",
    "\n",
    "**try/except/except etc.**"
   ]
  },
  {
   "cell_type": "code",
   "execution_count": 1,
   "metadata": {},
   "outputs": [
    {
     "name": "stdout",
     "output_type": "stream",
     "text": [
      "The entered value is 2.718\n",
      "The entered value is 0.0\n",
      "This function gives a ZeroDivisionError since a number cannot divide by 0.\n"
     ]
    }
   ],
   "source": [
    "num1 = float(input('Enter a number:'))\n",
    "print('The entered value is', num1)\n",
    "try:\n",
    "    num2 = float(input('Enter a number:'))\n",
    "    print('The entered value is',num2)\n",
    "    value = num1/num2\n",
    "    print('This process is running with value =', value)\n",
    "except ZeroDivisionError:\n",
    "    print('This function gives a ZeroDivisionError since a number cannot divide by 0.')\n",
    "except ValueError:\n",
    "    print('You should provide a number.')\n",
    "except:\n",
    "    print('Something went wrong!')             "
   ]
  },
  {
   "cell_type": "markdown",
   "metadata": {},
   "source": [
    "**try/except/else**"
   ]
  },
  {
   "cell_type": "code",
   "execution_count": 1,
   "metadata": {},
   "outputs": [
    {
     "name": "stdout",
     "output_type": "stream",
     "text": [
      "The entered value is 37.0\n",
      "The entered value is 1.618\n",
      "This process is running with value= 22.867737948084052\n"
     ]
    }
   ],
   "source": [
    "num1 = float(input('Enter a number:'))\n",
    "print('The entered value is',num1)\n",
    "try:\n",
    "    num2 = float(input('Enter a number:'))\n",
    "    print('The entered value is',num2)\n",
    "    value = num1/num2\n",
    "except ZeroDivisionError:\n",
    "    print('This function gives a ZeroDivisionError since a number cannot divide by 0.')\n",
    "except ValueError:\n",
    "    print('Something went wrong!')\n",
    "else:\n",
    "    print('This process is running with value=',value)            "
   ]
  },
  {
   "cell_type": "code",
   "execution_count": 2,
   "metadata": {},
   "outputs": [
    {
     "name": "stdout",
     "output_type": "stream",
     "text": [
      "The entered value is 3.14\n",
      "The entered value is 0.0\n",
      "This function gives a ZeroDivisionError, NameError or ValueError.\n",
      "The process is completed.\n"
     ]
    }
   ],
   "source": [
    "num1 = float(input('Enter a number:'))\n",
    "print('The entered value is',num1)\n",
    "try:\n",
    "    num2 = float(input('Enter a number:'))\n",
    "    print('The entered value is',num2)\n",
    "    value = num1/num2\n",
    "except (ZeroDivisionError, NameError, ValueError):\n",
    "    print('This function gives a ZeroDivisionError, NameError or ValueError.')\n",
    "except:\n",
    "    print('Something went wrong!')\n",
    "else:\n",
    "    print('This process is running with value=',value)\n",
    "finally:\n",
    "    print('The process is completed.')        "
   ]
  },
  {
   "cell_type": "markdown",
   "metadata": {},
   "source": [
    "**Raising in exception**\n",
    "\n",
    "Using the 'raise' keyword, the programmer can throw an exception when a certain condition is reached."
   ]
  },
  {
   "cell_type": "code",
   "execution_count": 3,
   "metadata": {},
   "outputs": [
    {
     "name": "stdout",
     "output_type": "stream",
     "text": [
      "The entered value is 1006\n",
      "Even or odd numbers higher than 1000 are not allowed!\n",
      "The process is completed.\n"
     ]
    }
   ],
   "source": [
    "num = int(input('Enter a number:'))\n",
    "print('The entered value is', num)\n",
    "try:\n",
    "    if num>1000 and num%2==0 or num%2!=0:\n",
    "        raise Exception('Do not allow to the even numbers higher than 1000.')\n",
    "except:\n",
    "    print('Even or odd numbers higher than 1000 are not allowed!')\n",
    "else:\n",
    "    print('This process is running with value=',num)\n",
    "finally:\n",
    "    print('The process is completed.')            "
   ]
  },
  {
   "cell_type": "code",
   "execution_count": null,
   "metadata": {},
   "outputs": [],
   "source": []
  }
 ],
 "metadata": {
  "kernelspec": {
   "display_name": "Python 3",
   "language": "python",
   "name": "python3"
  },
  "language_info": {
   "codemirror_mode": {
    "name": "ipython",
    "version": 3
   },
   "file_extension": ".py",
   "mimetype": "text/x-python",
   "name": "python",
   "nbconvert_exporter": "python",
   "pygments_lexer": "ipython3",
   "version": "3.10.11"
  }
 },
 "nbformat": 4,
 "nbformat_minor": 2
}

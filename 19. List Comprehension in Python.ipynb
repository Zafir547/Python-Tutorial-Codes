{
 "cells": [
  {
   "cell_type": "markdown",
   "metadata": {},
   "source": [
    "# **19. List Comprehension in Python**\n",
    "\n",
    "- **List comprehensio**n in Python is an easy and compact syntax for creating a list from a string or another list.\n",
    "\n",
    "- It is a very concise way to create a new list by performing an operation on each item in the existing list.\n",
    "\n",
    "- **List comprehension** is considerably **faster** than processing a list using the for loop."
   ]
  },
  {
   "cell_type": "markdown",
   "metadata": {},
   "source": [
    "**Examples**"
   ]
  },
  {
   "cell_type": "code",
   "execution_count": 1,
   "metadata": {},
   "outputs": [],
   "source": [
    "import math\n",
    "from math import *"
   ]
  },
  {
   "cell_type": "code",
   "execution_count": 2,
   "metadata": {},
   "outputs": [
    {
     "name": "stdout",
     "output_type": "stream",
     "text": [
      "[0, 1, 8, 27, 64]\n",
      "[0, 1, 8, 27, 64]\n",
      "[0.0, 1.0, 8.0, 27.0, 64.0]\n"
     ]
    }
   ],
   "source": [
    "# Using for loop\n",
    "cubic_nums = []\n",
    "for i in range(5):\n",
    "    i**=3\n",
    "    cubic_nums.append(i)\n",
    "print(cubic_nums)\n",
    "\n",
    "# Using list comprehension\n",
    "cubic_nums = [i**3 for i in range(5)]\n",
    "print(cubic_nums)\n",
    "\n",
    "# Using list comprehension\n",
    "cubic_nums = [math.pow(i,3) for i in range(5)]\n",
    "print(cubic_nums)"
   ]
  },
  {
   "cell_type": "code",
   "execution_count": 3,
   "metadata": {},
   "outputs": [
    {
     "name": "stdout",
     "output_type": "stream",
     "text": [
      "[0, 2, 4, 6, 8, 10, 12, 14, 16, 18, 20]\n",
      "[0, 2, 4, 6, 8, 10, 12, 14, 16, 18, 20]\n"
     ]
    }
   ],
   "source": [
    "# Using for loop\n",
    "even_numbers = []\n",
    "for i in range(21):\n",
    "    if i%2==0:\n",
    "        even_numbers.append(i)\n",
    "print(even_numbers)\n",
    "\n",
    "# Using list comprehension\n",
    "even_numbers = [i for i in range(21) if i%2==0]\n",
    "print(even_numbers)"
   ]
  },
  {
   "cell_type": "markdown",
   "metadata": {},
   "source": [
    "**Example:** The number of insects in a lab doubles in size every month. Take the initial number of insects as input and output a list, showing the number of insects for each of the next 12 months, starting with 0, which is the initial value. So the resulting list should contain 12 items, each showing the number of insects at the beginning of that month."
   ]
  },
  {
   "cell_type": "code",
   "execution_count": 4,
   "metadata": {},
   "outputs": [
    {
     "name": "stdout",
     "output_type": "stream",
     "text": [
      "[0, 3, 6, 9, 12, 15, 18, 21, 24, 27]\n",
      "[0, 3, 6, 9, 12, 15, 18, 21, 24, 27]\n"
     ]
    }
   ],
   "source": [
    "# Create a list of multiplies of three from 0 to 30\n",
    "# Using for loop\n",
    "nlis = []\n",
    "for i in range(30):\n",
    "    if i%3 == 0:\n",
    "        nlis.append(i)\n",
    "print(nlis)\n",
    "\n",
    "# Using list comprehension\n",
    "nlis = [i for i in range(30) if i%3 == 0]\n",
    "print(nlis)\n",
    "\n"
   ]
  },
  {
   "cell_type": "code",
   "execution_count": 5,
   "metadata": {},
   "outputs": [
    {
     "name": "stdout",
     "output_type": "stream",
     "text": [
      "['P', 'y', 't', 'h', 'o', 'n', ' ', 'i', 's', ' ', 'a', ' ', 'p', 'r', 'o', 'g', 'r', 'a', 'm', 'm', 'i', 'n', 'g', ' ', 'l', 'a', 'n', 'g', 'u', 'a', 'g', 'e']\n",
      "['P', 'y', 't', 'h', 'o', 'n', ' ', 'i', 's', ' ', 'a', ' ', 'p', 'r', 'o', 'g', 'r', 'a', 'm', 'm', 'i', 'n', 'g', ' ', 'l', 'a', 'n', 'g', 'u', 'a', 'g', 'e']\n"
     ]
    }
   ],
   "source": [
    "# Using for loop\n",
    "text = []\n",
    "for i in 'Python is a programming language':\n",
    "    text.append(i)\n",
    "print(text)\n",
    "\n",
    "# Using list comprehension\n",
    "text = [i for i in 'Python is a programming language']\n",
    "print(text)"
   ]
  },
  {
   "cell_type": "code",
   "execution_count": 6,
   "metadata": {},
   "outputs": [
    {
     "name": "stdout",
     "output_type": "stream",
     "text": [
      "[1.7309999999999999, 4.854, 8.154, 9.42, 18, 84, 111, 5187]\n",
      "[1.7309999999999999, 4.854, 8.154, 9.42, 18, 84, 111, 5187]\n"
     ]
    }
   ],
   "source": [
    "special_nums = [0.577, 1.618, 2.718, 3.14, 6, 28, 37, 1729]\n",
    "\n",
    "# Using for loop\n",
    "three_times = []\n",
    "for i in special_nums:\n",
    "    i*=3\n",
    "    three_times.append(i)\n",
    "print(three_times)\n",
    "\n",
    "# Using list comprehension\n",
    "three_times = [i*3 for i in special_nums]\n",
    "print(three_times)"
   ]
  },
  {
   "cell_type": "code",
   "execution_count": 7,
   "metadata": {},
   "outputs": [
    {
     "name": "stdout",
     "output_type": "stream",
     "text": [
      "['Python', 'JavaScript']\n",
      "['Python', 'JavaScript']\n"
     ]
    }
   ],
   "source": [
    "# Using for loop\n",
    "languages = ['Python','Java','JavaScript','C','C++','PHP']\n",
    "lang_lis = []\n",
    "for i in languages:\n",
    "    if 't' in i:\n",
    "        lang_lis.append(i)\n",
    "print(lang_lis)\n",
    "\n",
    "# Using list comprehension\n",
    "lang_lis = [i for i in languages if 't' in i]\n",
    "print(lang_lis)"
   ]
  },
  {
   "cell_type": "code",
   "execution_count": 8,
   "metadata": {},
   "outputs": [
    {
     "name": "stdout",
     "output_type": "stream",
     "text": [
      "['Python', 'Java', 'JavaScript', 'C++', 'PHP']\n",
      "['Python', 'Java', 'JavaScript', 'C++', 'PHP']\n"
     ]
    }
   ],
   "source": [
    "languages = ['Python','Java','JavaScript','C','C++','PHP']\n",
    "# Using for loop\n",
    "lang_lis = []\n",
    "for i in languages:\n",
    "    if i != 'C':\n",
    "        lang_lis.append(i)\n",
    "print(lang_lis)\n",
    "\n",
    "# Using list comprehension\n",
    "lang_lis = [i for i in languages if i != 'C']\n",
    "print(lang_lis)"
   ]
  },
  {
   "cell_type": "code",
   "execution_count": 9,
   "metadata": {},
   "outputs": [
    {
     "name": "stdout",
     "output_type": "stream",
     "text": [
      "[0.577, 1.618, 2.718, 3.14]\n",
      "[0.577, 1.618, 2.718, 3.14]\n"
     ]
    }
   ],
   "source": [
    "special_nums = [0.577, 1.618, 2.718, 3.14, 6, 28, 37, 1729]\n",
    "\n",
    "# Using for loop\n",
    "new_lis = []\n",
    "for i in special_nums:\n",
    "    if i < 5:\n",
    "        new_lis.append(i)\n",
    "print(new_lis)\n",
    "\n",
    "# Using list comprehenesion\n",
    "new_lis = [i for i in special_nums if i < 5]\n",
    "print(new_lis)"
   ]
  },
  {
   "cell_type": "code",
   "execution_count": 11,
   "metadata": {},
   "outputs": [
    {
     "name": "stdout",
     "output_type": "stream",
     "text": [
      "['Python', 'Python', 'Python', 'Python', 'Python']\n",
      "['Python', 'Python', 'Python', 'Python', 'Python']\n"
     ]
    }
   ],
   "source": [
    "languages = ['Java','JavaScript','C','C++','PHP']\n",
    "\n",
    "# Using for loop\n",
    "lang_lis = []\n",
    "for i in languages:\n",
    "    i = 'Python'\n",
    "    lang_lis.append(i)\n",
    "print(lang_lis)\n",
    "\n",
    "# Using list comprehension\n",
    "lang_lis = ['Python' for i in languages]\n",
    "print(lang_lis)"
   ]
  },
  {
   "cell_type": "code",
   "execution_count": 12,
   "metadata": {},
   "outputs": [
    {
     "name": "stdout",
     "output_type": "stream",
     "text": [
      "['Python', 'JavaScript', 'C', 'C++', 'PHP']\n",
      "['Python', 'JavaScript', 'C', 'C++', 'PHP']\n"
     ]
    }
   ],
   "source": [
    "languages = ['Java', 'JavaScript', 'C', 'C++', 'PHP']\n",
    "# Using for loop\n",
    "lang_lis = []\n",
    "for i in languages:\n",
    "    if i !='Java':\n",
    "        lang_lis.append(i)\n",
    "    else:\n",
    "        lang_lis.append('Python')\n",
    "print(lang_lis)\n",
    "\n",
    "# Using list comprehension\n",
    "lang_lis = [i if i !='Java' else 'Python' for i in languages]\n",
    "print(lang_lis)"
   ]
  },
  {
   "cell_type": "code",
   "execution_count": 13,
   "metadata": {},
   "outputs": [
    {
     "name": "stdout",
     "output_type": "stream",
     "text": [
      "['PYTHON', 'JAVA', 'JAVASCRIPT', 'C', 'C++', 'PHP']\n",
      "['PYTHON', 'JAVA', 'JAVASCRIPT', 'C', 'C++', 'PHP']\n"
     ]
    }
   ],
   "source": [
    "languages = ['Python', 'Java', 'JavaScript', 'C', 'C++', 'PHP']\n",
    "# Using for loop\n",
    "lang_lis = []\n",
    "for i in languages:\n",
    "    i = i.upper()\n",
    "    lang_lis.append(i)\n",
    "print(lang_lis)\n",
    "\n",
    "# Using list comprehension\n",
    "lang_lis = [i.upper() for i in languages]\n",
    "print(lang_lis)"
   ]
  },
  {
   "cell_type": "code",
   "execution_count": 1,
   "metadata": {},
   "outputs": [
    {
     "name": "stdout",
     "output_type": "stream",
     "text": [
      "['P', 'y', 't', 'h', 'o', 'n']\n",
      "['P', 'y', 't', 'h', 'o', 'n']\n",
      "['P', 'y', 't', 'h', 'o', 'n']\n"
     ]
    }
   ],
   "source": [
    "# Using for loop\n",
    "python = []\n",
    "for i in 'Python':\n",
    "    python.append(i)\n",
    "print(python)\n",
    "\n",
    "# Using list comprehension\n",
    "python = [i for i in 'Python']\n",
    "print(python)\n",
    "\n",
    "# Using lambda function\n",
    "python = list(map(lambda i: i, 'Python'))\n",
    "print(python)"
   ]
  },
  {
   "cell_type": "code",
   "execution_count": 2,
   "metadata": {},
   "outputs": [
    {
     "name": "stdout",
     "output_type": "stream",
     "text": [
      "For loop: ['Even', 'Odd', 'Even', 'Odd', 'Even', 'Odd', 'Even', 'Odd', 'Even', 'Odd', 'Even']\n",
      "List comprehension:['Even', 'Odd', 'Even', 'Odd', 'Even', 'Odd', 'Even', 'Odd', 'Even', 'Odd', 'Even']\n",
      "Lambda: ['Even', 'Odd', 'Even', 'Odd', 'Even', 'Odd', 'Even', 'Odd', 'Even', 'Odd', 'Even']\n"
     ]
    }
   ],
   "source": [
    "# Using for loop\n",
    "numbers = []\n",
    "for i in range(11):\n",
    "    if i%2 == 0:\n",
    "        numbers.append('Even')\n",
    "    else:\n",
    "        numbers.append('Odd')\n",
    "print(f'For loop: {numbers}')\n",
    "\n",
    "# Using list comprehension\n",
    "numbers = ['Even' if i%2==0 else 'Odd' for i in range(11)]\n",
    "print(f'List comprehension:{numbers}')\n",
    "\n",
    "# Using lambda function\n",
    "numbers = list(map(lambda i: i, ['Even' if i%2==0 else 'Odd' for i in range(11)]))\n",
    "print(f'Lambda: {numbers}')"
   ]
  },
  {
   "cell_type": "code",
   "execution_count": 3,
   "metadata": {},
   "outputs": [
    {
     "name": "stdout",
     "output_type": "stream",
     "text": [
      "[[0.577, 6], [1.618, 28], [2.718, 37], [3.14, 1729]]\n",
      "[[0.577, 6], [1.618, 28], [2.718, 37], [3.14, 1729]]\n"
     ]
    }
   ],
   "source": [
    "# Using nested for loop\n",
    "empty_list = []\n",
    "matrix_list = [[0.577, 1.618, 2.718, 3.14],[6, 28, 37, 1729]]\n",
    "\n",
    "for i in range(len(matrix_list[0])):\n",
    "    T_row = []\n",
    "    for row in matrix_list:\n",
    "        T_row.append(row[i])\n",
    "    empty_list.append(T_row)\n",
    "print(empty_list)\n",
    "\n",
    "# Using list comprehension\n",
    "empty_list = [[row[i] for row in matrix_list] for i in range(4)]\n",
    "print(empty_list)"
   ]
  },
  {
   "cell_type": "code",
   "execution_count": 7,
   "metadata": {},
   "outputs": [
    {
     "name": "stdout",
     "output_type": "stream",
     "text": [
      "[[0, 1, 2, 3, 4], [0, 1, 2, 3, 4], [0, 1, 2, 3, 4], [0, 1, 2, 3, 4], [0, 1, 2, 3, 4]]\n",
      "[[0, 1, 2, 3, 4], [0, 1, 2, 3, 4], [0, 1, 2, 3, 4], [0, 1, 2, 3, 4], [0, 1, 2, 3, 4]]\n"
     ]
    }
   ],
   "source": [
    "# Using nested for loop\n",
    "empty_matrix = []\n",
    "for i in range(5):\n",
    "    empty_matrix.append([])\n",
    "    for j in range(5):\n",
    "        empty_matrix[i].append(j)\n",
    "print(empty_matrix)\n",
    "\n",
    "# Using list comprehension\n",
    "empty_matrix = [[j for j in range(5)] for i in range(5)]\n",
    "print(empty_matrix)"
   ]
  },
  {
   "cell_type": "code",
   "execution_count": 8,
   "metadata": {},
   "outputs": [
    {
     "name": "stdout",
     "output_type": "stream",
     "text": [
      "[[0.577, 2.718, 6], [1.618, 3.14, 28], [0, 1, 28]]\n"
     ]
    }
   ],
   "source": [
    "# Transpose of 2D matrix\n",
    "matrix = [[0.577,1.618,0],\n",
    "          [2.718,3.14,1],\n",
    "          [6,28,28]]\n",
    "transpose_matrix = [[i[j] for i in matrix] for j in range(len(matrix))]\n",
    "print(transpose_matrix) "
   ]
  }
 ],
 "metadata": {
  "kernelspec": {
   "display_name": "Python 3",
   "language": "python",
   "name": "python3"
  },
  "language_info": {
   "codemirror_mode": {
    "name": "ipython",
    "version": 3
   },
   "file_extension": ".py",
   "mimetype": "text/x-python",
   "name": "python",
   "nbconvert_exporter": "python",
   "pygments_lexer": "ipython3",
   "version": "3.10.11"
  }
 },
 "nbformat": 4,
 "nbformat_minor": 2
}
